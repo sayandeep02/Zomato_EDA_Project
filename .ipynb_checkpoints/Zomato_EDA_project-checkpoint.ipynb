{
 "cells": [
  {
   "cell_type": "markdown",
   "id": "15e7e703",
   "metadata": {},
   "source": [
    "#### The goal of this exploratory data analysis (EDA) is to understand customer preferences and restaurant performance in Bangalore using the Zomato dataset. Specifically, this analysis aims to:\n",
    "\n",
    "#### Explore the Relationship Between Ratings and Orders:\n",
    ">By examining the correlation between restaurant ratings and the number of orders, we aim to uncover how customer satisfaction (via ratings) impacts the popularity and demand for restaurants in Bangalore.\n",
    "\n",
    "#### Explore the preferences of people of Bangalore:\n",
    ">The type of food that is most preferred by people in different regions of the city.\n",
    "\n",
    "#### Perform Geospatial Analysis: \n",
    ">This analysis will focus on identifying the geographical distribution of different cuisines across Bangalore. We will investigate which areas have the highest concentration of specific cuisines.\n",
    "\n",
    "#### The findings will help provide insights into:\n",
    "\n",
    ">How customer ratings influence restaurant success. <br>\n",
    ">Popular food trends in Bangalore.<br>\n",
    ">The areas in Bangalore where specific types of cuisine are most in demand, potentially helping restaurants make data-driven decisions about location and menu offerings.\n"
   ]
  },
  {
   "cell_type": "markdown",
   "id": "c41ea0e2",
   "metadata": {},
   "source": [
    "### Importing necessary libraries"
   ]
  },
  {
   "cell_type": "code",
   "execution_count": 1,
   "id": "d715573b",
   "metadata": {},
   "outputs": [],
   "source": [
    "import pandas as pd\n",
    "import numpy as np\n",
    "import matplotlib.pyplot as plt\n",
    "import seaborn as sns\n",
    "import sqlite3\n",
    "import folium\n",
    "from nltk.corpus import RegexpTokenizer\n",
    "from folium.plugins import HeatMap\n",
    "from nltk.corpus import stopwords\n",
    "from nltk import FreqDist, bigrams , trigrams\n",
    "from geopy.geocoders import Nominatim"
   ]
  },
  {
   "cell_type": "markdown",
   "id": "4568cea7",
   "metadata": {},
   "source": [
    "#### Reading data from a sqlite file"
   ]
  },
  {
   "cell_type": "code",
   "execution_count": 2,
   "id": "3bcadb63",
   "metadata": {},
   "outputs": [],
   "source": [
    "db =sqlite3.connect(r\"zomato_rawdata.sqlite\")"
   ]
  },
  {
   "cell_type": "code",
   "execution_count": 3,
   "id": "de734e00",
   "metadata": {},
   "outputs": [
    {
     "data": {
      "text/html": [
       "<div>\n",
       "<style scoped>\n",
       "    .dataframe tbody tr th:only-of-type {\n",
       "        vertical-align: middle;\n",
       "    }\n",
       "\n",
       "    .dataframe tbody tr th {\n",
       "        vertical-align: top;\n",
       "    }\n",
       "\n",
       "    .dataframe thead th {\n",
       "        text-align: right;\n",
       "    }\n",
       "</style>\n",
       "<table border=\"1\" class=\"dataframe\">\n",
       "  <thead>\n",
       "    <tr style=\"text-align: right;\">\n",
       "      <th></th>\n",
       "      <th>index</th>\n",
       "      <th>url</th>\n",
       "      <th>address</th>\n",
       "      <th>name</th>\n",
       "      <th>online_order</th>\n",
       "      <th>book_table</th>\n",
       "      <th>rate</th>\n",
       "      <th>votes</th>\n",
       "      <th>phone</th>\n",
       "      <th>location</th>\n",
       "      <th>rest_type</th>\n",
       "      <th>dish_liked</th>\n",
       "      <th>cuisines</th>\n",
       "      <th>approx_cost(for two people)</th>\n",
       "      <th>reviews_list</th>\n",
       "      <th>menu_item</th>\n",
       "      <th>listed_in(type)</th>\n",
       "      <th>listed_in(city)</th>\n",
       "    </tr>\n",
       "  </thead>\n",
       "  <tbody>\n",
       "    <tr>\n",
       "      <th>0</th>\n",
       "      <td>0</td>\n",
       "      <td>https://www.zomato.com/bangalore/jalsa-banasha...</td>\n",
       "      <td>942, 21st Main Road, 2nd Stage, Banashankari, ...</td>\n",
       "      <td>Jalsa</td>\n",
       "      <td>Yes</td>\n",
       "      <td>Yes</td>\n",
       "      <td>4.1/5</td>\n",
       "      <td>775</td>\n",
       "      <td>080 42297555\\r\\n+91 9743772233</td>\n",
       "      <td>Banashankari</td>\n",
       "      <td>Casual Dining</td>\n",
       "      <td>Pasta, Lunch Buffet, Masala Papad, Paneer Laja...</td>\n",
       "      <td>North Indian, Mughlai, Chinese</td>\n",
       "      <td>800</td>\n",
       "      <td>[('Rated 4.0', 'RATED\\n  A beautiful place to ...</td>\n",
       "      <td>[]</td>\n",
       "      <td>Buffet</td>\n",
       "      <td>Banashankari</td>\n",
       "    </tr>\n",
       "    <tr>\n",
       "      <th>1</th>\n",
       "      <td>1</td>\n",
       "      <td>https://www.zomato.com/bangalore/spice-elephan...</td>\n",
       "      <td>2nd Floor, 80 Feet Road, Near Big Bazaar, 6th ...</td>\n",
       "      <td>Spice Elephant</td>\n",
       "      <td>Yes</td>\n",
       "      <td>No</td>\n",
       "      <td>4.1/5</td>\n",
       "      <td>787</td>\n",
       "      <td>080 41714161</td>\n",
       "      <td>Banashankari</td>\n",
       "      <td>Casual Dining</td>\n",
       "      <td>Momos, Lunch Buffet, Chocolate Nirvana, Thai G...</td>\n",
       "      <td>Chinese, North Indian, Thai</td>\n",
       "      <td>800</td>\n",
       "      <td>[('Rated 4.0', 'RATED\\n  Had been here for din...</td>\n",
       "      <td>[]</td>\n",
       "      <td>Buffet</td>\n",
       "      <td>Banashankari</td>\n",
       "    </tr>\n",
       "    <tr>\n",
       "      <th>2</th>\n",
       "      <td>2</td>\n",
       "      <td>https://www.zomato.com/SanchurroBangalore?cont...</td>\n",
       "      <td>1112, Next to KIMS Medical College, 17th Cross...</td>\n",
       "      <td>San Churro Cafe</td>\n",
       "      <td>Yes</td>\n",
       "      <td>No</td>\n",
       "      <td>3.8/5</td>\n",
       "      <td>918</td>\n",
       "      <td>+91 9663487993</td>\n",
       "      <td>Banashankari</td>\n",
       "      <td>Cafe, Casual Dining</td>\n",
       "      <td>Churros, Cannelloni, Minestrone Soup, Hot Choc...</td>\n",
       "      <td>Cafe, Mexican, Italian</td>\n",
       "      <td>800</td>\n",
       "      <td>[('Rated 3.0', \"RATED\\n  Ambience is not that ...</td>\n",
       "      <td>[]</td>\n",
       "      <td>Buffet</td>\n",
       "      <td>Banashankari</td>\n",
       "    </tr>\n",
       "    <tr>\n",
       "      <th>3</th>\n",
       "      <td>3</td>\n",
       "      <td>https://www.zomato.com/bangalore/addhuri-udupi...</td>\n",
       "      <td>1st Floor, Annakuteera, 3rd Stage, Banashankar...</td>\n",
       "      <td>Addhuri Udupi Bhojana</td>\n",
       "      <td>No</td>\n",
       "      <td>No</td>\n",
       "      <td>3.7/5</td>\n",
       "      <td>88</td>\n",
       "      <td>+91 9620009302</td>\n",
       "      <td>Banashankari</td>\n",
       "      <td>Quick Bites</td>\n",
       "      <td>Masala Dosa</td>\n",
       "      <td>South Indian, North Indian</td>\n",
       "      <td>300</td>\n",
       "      <td>[('Rated 4.0', \"RATED\\n  Great food and proper...</td>\n",
       "      <td>[]</td>\n",
       "      <td>Buffet</td>\n",
       "      <td>Banashankari</td>\n",
       "    </tr>\n",
       "    <tr>\n",
       "      <th>4</th>\n",
       "      <td>4</td>\n",
       "      <td>https://www.zomato.com/bangalore/grand-village...</td>\n",
       "      <td>10, 3rd Floor, Lakshmi Associates, Gandhi Baza...</td>\n",
       "      <td>Grand Village</td>\n",
       "      <td>No</td>\n",
       "      <td>No</td>\n",
       "      <td>3.8/5</td>\n",
       "      <td>166</td>\n",
       "      <td>+91 8026612447\\r\\n+91 9901210005</td>\n",
       "      <td>Basavanagudi</td>\n",
       "      <td>Casual Dining</td>\n",
       "      <td>Panipuri, Gol Gappe</td>\n",
       "      <td>North Indian, Rajasthani</td>\n",
       "      <td>600</td>\n",
       "      <td>[('Rated 4.0', 'RATED\\n  Very good restaurant ...</td>\n",
       "      <td>[]</td>\n",
       "      <td>Buffet</td>\n",
       "      <td>Banashankari</td>\n",
       "    </tr>\n",
       "  </tbody>\n",
       "</table>\n",
       "</div>"
      ],
      "text/plain": [
       "   index                                                url  \\\n",
       "0      0  https://www.zomato.com/bangalore/jalsa-banasha...   \n",
       "1      1  https://www.zomato.com/bangalore/spice-elephan...   \n",
       "2      2  https://www.zomato.com/SanchurroBangalore?cont...   \n",
       "3      3  https://www.zomato.com/bangalore/addhuri-udupi...   \n",
       "4      4  https://www.zomato.com/bangalore/grand-village...   \n",
       "\n",
       "                                             address                   name  \\\n",
       "0  942, 21st Main Road, 2nd Stage, Banashankari, ...                  Jalsa   \n",
       "1  2nd Floor, 80 Feet Road, Near Big Bazaar, 6th ...         Spice Elephant   \n",
       "2  1112, Next to KIMS Medical College, 17th Cross...        San Churro Cafe   \n",
       "3  1st Floor, Annakuteera, 3rd Stage, Banashankar...  Addhuri Udupi Bhojana   \n",
       "4  10, 3rd Floor, Lakshmi Associates, Gandhi Baza...          Grand Village   \n",
       "\n",
       "  online_order book_table   rate  votes                             phone  \\\n",
       "0          Yes        Yes  4.1/5    775    080 42297555\\r\\n+91 9743772233   \n",
       "1          Yes         No  4.1/5    787                      080 41714161   \n",
       "2          Yes         No  3.8/5    918                    +91 9663487993   \n",
       "3           No         No  3.7/5     88                    +91 9620009302   \n",
       "4           No         No  3.8/5    166  +91 8026612447\\r\\n+91 9901210005   \n",
       "\n",
       "       location            rest_type  \\\n",
       "0  Banashankari        Casual Dining   \n",
       "1  Banashankari        Casual Dining   \n",
       "2  Banashankari  Cafe, Casual Dining   \n",
       "3  Banashankari          Quick Bites   \n",
       "4  Basavanagudi        Casual Dining   \n",
       "\n",
       "                                          dish_liked  \\\n",
       "0  Pasta, Lunch Buffet, Masala Papad, Paneer Laja...   \n",
       "1  Momos, Lunch Buffet, Chocolate Nirvana, Thai G...   \n",
       "2  Churros, Cannelloni, Minestrone Soup, Hot Choc...   \n",
       "3                                        Masala Dosa   \n",
       "4                                Panipuri, Gol Gappe   \n",
       "\n",
       "                         cuisines approx_cost(for two people)  \\\n",
       "0  North Indian, Mughlai, Chinese                         800   \n",
       "1     Chinese, North Indian, Thai                         800   \n",
       "2          Cafe, Mexican, Italian                         800   \n",
       "3      South Indian, North Indian                         300   \n",
       "4        North Indian, Rajasthani                         600   \n",
       "\n",
       "                                        reviews_list menu_item  \\\n",
       "0  [('Rated 4.0', 'RATED\\n  A beautiful place to ...        []   \n",
       "1  [('Rated 4.0', 'RATED\\n  Had been here for din...        []   \n",
       "2  [('Rated 3.0', \"RATED\\n  Ambience is not that ...        []   \n",
       "3  [('Rated 4.0', \"RATED\\n  Great food and proper...        []   \n",
       "4  [('Rated 4.0', 'RATED\\n  Very good restaurant ...        []   \n",
       "\n",
       "  listed_in(type) listed_in(city)  \n",
       "0          Buffet    Banashankari  \n",
       "1          Buffet    Banashankari  \n",
       "2          Buffet    Banashankari  \n",
       "3          Buffet    Banashankari  \n",
       "4          Buffet    Banashankari  "
      ]
     },
     "execution_count": 3,
     "metadata": {},
     "output_type": "execute_result"
    }
   ],
   "source": [
    "pd.read_sql_query(\"SELECT * FROM Users\", db).head()"
   ]
  },
  {
   "cell_type": "markdown",
   "id": "aeb40fd8",
   "metadata": {},
   "source": [
    "Creating a Pandas dateframe using a sql quaery from the database"
   ]
  },
  {
   "cell_type": "code",
   "execution_count": 4,
   "id": "a73f31da",
   "metadata": {},
   "outputs": [],
   "source": [
    "df = pd.read_sql_query(\"SELECT * FROM Users\" , db)"
   ]
  },
  {
   "cell_type": "code",
   "execution_count": 5,
   "id": "d129f1a2",
   "metadata": {},
   "outputs": [
    {
     "data": {
      "text/plain": [
       "(51717, 18)"
      ]
     },
     "execution_count": 5,
     "metadata": {},
     "output_type": "execute_result"
    }
   ],
   "source": [
    "df.shape"
   ]
  },
  {
   "cell_type": "code",
   "execution_count": 6,
   "id": "984f97cd",
   "metadata": {},
   "outputs": [
    {
     "data": {
      "text/plain": [
       "Index(['index', 'url', 'address', 'name', 'online_order', 'book_table', 'rate',\n",
       "       'votes', 'phone', 'location', 'rest_type', 'dish_liked', 'cuisines',\n",
       "       'approx_cost(for two people)', 'reviews_list', 'menu_item',\n",
       "       'listed_in(type)', 'listed_in(city)'],\n",
       "      dtype='object')"
      ]
     },
     "execution_count": 6,
     "metadata": {},
     "output_type": "execute_result"
    }
   ],
   "source": [
    "df.columns"
   ]
  },
  {
   "cell_type": "markdown",
   "id": "814e5a9a",
   "metadata": {},
   "source": [
    "#### Checking for missing values"
   ]
  },
  {
   "cell_type": "code",
   "execution_count": 7,
   "id": "f44912a2",
   "metadata": {},
   "outputs": [
    {
     "data": {
      "text/plain": [
       "index                              0\n",
       "url                                0\n",
       "address                            0\n",
       "name                               0\n",
       "online_order                       0\n",
       "book_table                         0\n",
       "rate                            7775\n",
       "votes                              0\n",
       "phone                           1208\n",
       "location                          21\n",
       "rest_type                        227\n",
       "dish_liked                     28078\n",
       "cuisines                          45\n",
       "approx_cost(for two people)      346\n",
       "reviews_list                       0\n",
       "menu_item                          0\n",
       "listed_in(type)                    0\n",
       "listed_in(city)                    0\n",
       "dtype: int64"
      ]
     },
     "execution_count": 7,
     "metadata": {},
     "output_type": "execute_result"
    }
   ],
   "source": [
    "df.isnull().sum()"
   ]
  },
  {
   "cell_type": "code",
   "execution_count": 8,
   "id": "b8d04803",
   "metadata": {},
   "outputs": [
    {
     "name": "stdout",
     "output_type": "stream",
     "text": [
      "index                           0.00%\n",
      "url                             0.00%\n",
      "address                         0.00%\n",
      "name                            0.00%\n",
      "online_order                    0.00%\n",
      "book_table                      0.00%\n",
      "rate                           15.03%\n",
      "votes                           0.00%\n",
      "phone                           2.34%\n",
      "location                        0.04%\n",
      "rest_type                       0.44%\n",
      "dish_liked                     54.29%\n",
      "cuisines                        0.09%\n",
      "approx_cost(for two people)     0.67%\n",
      "reviews_list                    0.00%\n",
      "menu_item                       0.00%\n",
      "listed_in(type)                 0.00%\n",
      "listed_in(city)                 0.00%\n",
      "dtype: object\n"
     ]
    }
   ],
   "source": [
    "# Calculate the percentage of missing values in each column\n",
    "null_percentage = (df.isnull().sum() / len(df)) * 100\n",
    "# Format the result as percentages with 2 decimal places\n",
    "null_percentage_formatted = null_percentage.map('{:.2f}%'.format)\n",
    "\n",
    "print(null_percentage_formatted)\n"
   ]
  },
  {
   "cell_type": "markdown",
   "id": "f1fc51ed",
   "metadata": {},
   "source": [
    "#### Since approximately 50% of the data would be lost by removing the missing values in the dish_liked column, we will retain this column for now.\n",
    "\n",
    "#### Next, let's examine the rate column, which has 15% missing values. Given that this is a key feature, it's important to address this carefully."
   ]
  },
  {
   "cell_type": "code",
   "execution_count": 9,
   "id": "6665c1f4",
   "metadata": {},
   "outputs": [
    {
     "data": {
      "text/plain": [
       "array(['4.1/5', '3.8/5', '3.7/5', '3.6/5', '4.6/5', '4.0/5', '4.2/5',\n",
       "       '3.9/5', '3.1/5', '3.0/5', '3.2/5', '3.3/5', '2.8/5', '4.4/5',\n",
       "       '4.3/5', 'NEW', '2.9/5', '3.5/5', None, '2.6/5', '3.8 /5', '3.4/5',\n",
       "       '4.5/5', '2.5/5', '2.7/5', '4.7/5', '2.4/5', '2.2/5', '2.3/5',\n",
       "       '3.4 /5', '-', '3.6 /5', '4.8/5', '3.9 /5', '4.2 /5', '4.0 /5',\n",
       "       '4.1 /5', '3.7 /5', '3.1 /5', '2.9 /5', '3.3 /5', '2.8 /5',\n",
       "       '3.5 /5', '2.7 /5', '2.5 /5', '3.2 /5', '2.6 /5', '4.5 /5',\n",
       "       '4.3 /5', '4.4 /5', '4.9/5', '2.1/5', '2.0/5', '1.8/5', '4.6 /5',\n",
       "       '4.9 /5', '3.0 /5', '4.8 /5', '2.3 /5', '4.7 /5', '2.4 /5',\n",
       "       '2.1 /5', '2.2 /5', '2.0 /5', '1.8 /5'], dtype=object)"
      ]
     },
     "execution_count": 9,
     "metadata": {},
     "output_type": "execute_result"
    }
   ],
   "source": [
    "df['rate'].unique()"
   ]
  },
  {
   "cell_type": "markdown",
   "id": "b5bac453",
   "metadata": {},
   "source": [
    "#### I identified that this column contains 'NEW' and '-' values. These should be replaced with zero or np.nan.\n",
    "\n",
    "#### I also noticed some entries like '3.8/5' instead of just '3.8'. We'll need to clean and standardize these values.\n"
   ]
  },
  {
   "cell_type": "code",
   "execution_count": 10,
   "id": "dff28977",
   "metadata": {},
   "outputs": [
    {
     "name": "stderr",
     "output_type": "stream",
     "text": [
      "C:\\Users\\sayan\\AppData\\Local\\Temp\\ipykernel_23012\\1085232556.py:1: FutureWarning: A value is trying to be set on a copy of a DataFrame or Series through chained assignment using an inplace method.\n",
      "The behavior will change in pandas 3.0. This inplace method will never work because the intermediate object on which we are setting values always behaves as a copy.\n",
      "\n",
      "For example, when doing 'df[col].method(value, inplace=True)', try using 'df.method({col: value}, inplace=True)' or df[col] = df[col].method(value) instead, to perform the operation inplace on the original object.\n",
      "\n",
      "\n",
      "  df['rate'].replace(('NEW' , '-') , np.nan , inplace=True)\n"
     ]
    }
   ],
   "source": [
    "df['rate'].replace(('NEW' , '-') , np.nan , inplace=True)"
   ]
  },
  {
   "cell_type": "code",
   "execution_count": 11,
   "id": "4742c3c8",
   "metadata": {},
   "outputs": [],
   "source": [
    "df['rate']=df['rate'].apply(lambda x: float(x.split('/')[0]) if type(x) == str else x)"
   ]
  },
  {
   "cell_type": "code",
   "execution_count": 12,
   "id": "110f03a8",
   "metadata": {
    "scrolled": true
   },
   "outputs": [
    {
     "data": {
      "text/plain": [
       "dtype('float64')"
      ]
     },
     "execution_count": 12,
     "metadata": {},
     "output_type": "execute_result"
    }
   ],
   "source": [
    "df.rate.dtype"
   ]
  },
  {
   "cell_type": "code",
   "execution_count": 13,
   "id": "4c5f168d",
   "metadata": {
    "scrolled": true
   },
   "outputs": [
    {
     "data": {
      "text/plain": [
       "0        4.1\n",
       "1        4.1\n",
       "2        3.8\n",
       "3        3.7\n",
       "4        3.8\n",
       "        ... \n",
       "51712    3.6\n",
       "51713    NaN\n",
       "51714    NaN\n",
       "51715    4.3\n",
       "51716    3.4\n",
       "Name: rate, Length: 51717, dtype: float64"
      ]
     },
     "execution_count": 13,
     "metadata": {},
     "output_type": "execute_result"
    }
   ],
   "source": [
    "df.rate"
   ]
  },
  {
   "cell_type": "code",
   "execution_count": 14,
   "id": "9bd61d6b",
   "metadata": {},
   "outputs": [
    {
     "data": {
      "text/plain": [
       "array([4.1, 3.8, 3.7, 3.6, 4.6, 4. , 4.2, 3.9, 3.1, 3. , 3.2, 3.3, 2.8,\n",
       "       4.4, 4.3, nan, 2.9, 3.5, 2.6, 3.4, 4.5, 2.5, 2.7, 4.7, 2.4, 2.2,\n",
       "       2.3, 4.8, 4.9, 2.1, 2. , 1.8])"
      ]
     },
     "execution_count": 14,
     "metadata": {},
     "output_type": "execute_result"
    }
   ],
   "source": [
    "df['rate'].unique()"
   ]
  },
  {
   "cell_type": "markdown",
   "id": "5e9c7987",
   "metadata": {},
   "source": [
    " We aim to explore how many restaurants with ratings such as 0, 1, 1.2, 1.4, 1.6, and so on accept or do not accept online orders.\n",
    "\n",
    ">To address this, we'll create frequency tables to capture the distribution of ratings across restaurants that accept online orders and those that don't.\n",
    "\n"
   ]
  },
  {
   "cell_type": "code",
   "execution_count": 15,
   "id": "11e9f1a2",
   "metadata": {},
   "outputs": [
    {
     "data": {
      "text/html": [
       "<div>\n",
       "<style scoped>\n",
       "    .dataframe tbody tr th:only-of-type {\n",
       "        vertical-align: middle;\n",
       "    }\n",
       "\n",
       "    .dataframe tbody tr th {\n",
       "        vertical-align: top;\n",
       "    }\n",
       "\n",
       "    .dataframe thead th {\n",
       "        text-align: right;\n",
       "    }\n",
       "</style>\n",
       "<table border=\"1\" class=\"dataframe\">\n",
       "  <thead>\n",
       "    <tr style=\"text-align: right;\">\n",
       "      <th>online_order</th>\n",
       "      <th>No</th>\n",
       "      <th>Yes</th>\n",
       "    </tr>\n",
       "    <tr>\n",
       "      <th>rate</th>\n",
       "      <th></th>\n",
       "      <th></th>\n",
       "    </tr>\n",
       "  </thead>\n",
       "  <tbody>\n",
       "    <tr>\n",
       "      <th>1.8</th>\n",
       "      <td>5</td>\n",
       "      <td>0</td>\n",
       "    </tr>\n",
       "    <tr>\n",
       "      <th>2.0</th>\n",
       "      <td>11</td>\n",
       "      <td>0</td>\n",
       "    </tr>\n",
       "    <tr>\n",
       "      <th>2.1</th>\n",
       "      <td>9</td>\n",
       "      <td>15</td>\n",
       "    </tr>\n",
       "    <tr>\n",
       "      <th>2.2</th>\n",
       "      <td>10</td>\n",
       "      <td>16</td>\n",
       "    </tr>\n",
       "    <tr>\n",
       "      <th>2.3</th>\n",
       "      <td>29</td>\n",
       "      <td>22</td>\n",
       "    </tr>\n",
       "    <tr>\n",
       "      <th>2.4</th>\n",
       "      <td>36</td>\n",
       "      <td>34</td>\n",
       "    </tr>\n",
       "    <tr>\n",
       "      <th>2.5</th>\n",
       "      <td>38</td>\n",
       "      <td>63</td>\n",
       "    </tr>\n",
       "    <tr>\n",
       "      <th>2.6</th>\n",
       "      <td>83</td>\n",
       "      <td>177</td>\n",
       "    </tr>\n",
       "    <tr>\n",
       "      <th>2.7</th>\n",
       "      <td>141</td>\n",
       "      <td>166</td>\n",
       "    </tr>\n",
       "    <tr>\n",
       "      <th>2.8</th>\n",
       "      <td>224</td>\n",
       "      <td>376</td>\n",
       "    </tr>\n",
       "    <tr>\n",
       "      <th>2.9</th>\n",
       "      <td>314</td>\n",
       "      <td>488</td>\n",
       "    </tr>\n",
       "    <tr>\n",
       "      <th>3.0</th>\n",
       "      <td>439</td>\n",
       "      <td>584</td>\n",
       "    </tr>\n",
       "    <tr>\n",
       "      <th>3.1</th>\n",
       "      <td>587</td>\n",
       "      <td>974</td>\n",
       "    </tr>\n",
       "    <tr>\n",
       "      <th>3.2</th>\n",
       "      <td>829</td>\n",
       "      <td>1044</td>\n",
       "    </tr>\n",
       "    <tr>\n",
       "      <th>3.3</th>\n",
       "      <td>1137</td>\n",
       "      <td>1173</td>\n",
       "    </tr>\n",
       "    <tr>\n",
       "      <th>3.4</th>\n",
       "      <td>1024</td>\n",
       "      <td>1452</td>\n",
       "    </tr>\n",
       "    <tr>\n",
       "      <th>3.5</th>\n",
       "      <td>1090</td>\n",
       "      <td>1694</td>\n",
       "    </tr>\n",
       "    <tr>\n",
       "      <th>3.6</th>\n",
       "      <td>1090</td>\n",
       "      <td>2226</td>\n",
       "    </tr>\n",
       "    <tr>\n",
       "      <th>3.7</th>\n",
       "      <td>1172</td>\n",
       "      <td>2649</td>\n",
       "    </tr>\n",
       "    <tr>\n",
       "      <th>3.8</th>\n",
       "      <td>1147</td>\n",
       "      <td>2726</td>\n",
       "    </tr>\n",
       "    <tr>\n",
       "      <th>3.9</th>\n",
       "      <td>1017</td>\n",
       "      <td>2955</td>\n",
       "    </tr>\n",
       "    <tr>\n",
       "      <th>4.0</th>\n",
       "      <td>874</td>\n",
       "      <td>2309</td>\n",
       "    </tr>\n",
       "    <tr>\n",
       "      <th>4.1</th>\n",
       "      <td>843</td>\n",
       "      <td>2105</td>\n",
       "    </tr>\n",
       "    <tr>\n",
       "      <th>4.2</th>\n",
       "      <td>648</td>\n",
       "      <td>1536</td>\n",
       "    </tr>\n",
       "    <tr>\n",
       "      <th>4.3</th>\n",
       "      <td>692</td>\n",
       "      <td>1001</td>\n",
       "    </tr>\n",
       "    <tr>\n",
       "      <th>4.4</th>\n",
       "      <td>374</td>\n",
       "      <td>773</td>\n",
       "    </tr>\n",
       "    <tr>\n",
       "      <th>4.5</th>\n",
       "      <td>297</td>\n",
       "      <td>359</td>\n",
       "    </tr>\n",
       "    <tr>\n",
       "      <th>4.6</th>\n",
       "      <td>140</td>\n",
       "      <td>160</td>\n",
       "    </tr>\n",
       "    <tr>\n",
       "      <th>4.7</th>\n",
       "      <td>113</td>\n",
       "      <td>54</td>\n",
       "    </tr>\n",
       "    <tr>\n",
       "      <th>4.8</th>\n",
       "      <td>34</td>\n",
       "      <td>32</td>\n",
       "    </tr>\n",
       "    <tr>\n",
       "      <th>4.9</th>\n",
       "      <td>12</td>\n",
       "      <td>43</td>\n",
       "    </tr>\n",
       "  </tbody>\n",
       "</table>\n",
       "</div>"
      ],
      "text/plain": [
       "online_order    No   Yes\n",
       "rate                    \n",
       "1.8              5     0\n",
       "2.0             11     0\n",
       "2.1              9    15\n",
       "2.2             10    16\n",
       "2.3             29    22\n",
       "2.4             36    34\n",
       "2.5             38    63\n",
       "2.6             83   177\n",
       "2.7            141   166\n",
       "2.8            224   376\n",
       "2.9            314   488\n",
       "3.0            439   584\n",
       "3.1            587   974\n",
       "3.2            829  1044\n",
       "3.3           1137  1173\n",
       "3.4           1024  1452\n",
       "3.5           1090  1694\n",
       "3.6           1090  2226\n",
       "3.7           1172  2649\n",
       "3.8           1147  2726\n",
       "3.9           1017  2955\n",
       "4.0            874  2309\n",
       "4.1            843  2105\n",
       "4.2            648  1536\n",
       "4.3            692  1001\n",
       "4.4            374   773\n",
       "4.5            297   359\n",
       "4.6            140   160\n",
       "4.7            113    54\n",
       "4.8             34    32\n",
       "4.9             12    43"
      ]
     },
     "execution_count": 15,
     "metadata": {},
     "output_type": "execute_result"
    }
   ],
   "source": [
    "x = pd.crosstab(df['rate'] , df['online_order'])\n",
    "x"
   ]
  },
  {
   "cell_type": "code",
   "execution_count": 16,
   "id": "0a1cc30d",
   "metadata": {},
   "outputs": [
    {
     "data": {
      "image/png": "[encoded data removed]",
      "text/plain": [
       "<Figure size 1000x600 with 1 Axes>"
      ]
     },
     "metadata": {},
     "output_type": "display_data"
    }
   ],
   "source": [
    "x.plot(kind='bar', stacked=True, color=['#2D2D2D','#cb202d'], figsize=(10, 6))\n",
    "\n",
    "# Add title and labels\n",
    "plt.title('Ratings vs Nature of Orders', fontsize=16)\n",
    "plt.xlabel('Ratings', fontsize=12)\n",
    "plt.ylabel('No. of Orders', fontsize=12)\n",
    "\n",
    "\n",
    "plt.xticks(rotation=45, ha='right')\n",
    "\n",
    "# Add a grid for better readability\n",
    "plt.grid(axis='y', linestyle='--', alpha=0.7)\n",
    "\n",
    "# Add a legend\n",
    "plt.legend(title='Online Order?', loc='upper right', fontsize=10)\n",
    "\n",
    "# Show plot\n",
    "plt.tight_layout()\n",
    "plt.show()\n"
   ]
  },
  {
   "cell_type": "markdown",
   "id": "fd200c26",
   "metadata": {},
   "source": [
    "We need to perform floating division of the DataFrame, or normalize the values in the x DataFrame across rows. To achieve this, we can use the x.div() function and set axis=0.\n",
    "\n",
    "The div() function is an in-built method in pandas designed specifically for DataFrame operations."
   ]
  },
  {
   "cell_type": "code",
   "execution_count": 17,
   "id": "8de8be78",
   "metadata": {},
   "outputs": [],
   "source": [
    "normalize_df = x.div(x.sum(axis=1).astype(float) , axis=0)*100"
   ]
  },
  {
   "cell_type": "code",
   "execution_count": 18,
   "id": "46f75a76",
   "metadata": {},
   "outputs": [
    {
     "data": {
      "image/png": "[encoded data removed]",
      "text/plain": [
       "<Figure size 1000x600 with 1 Axes>"
      ]
     },
     "metadata": {},
     "output_type": "display_data"
    }
   ],
   "source": [
    "normalize_df.plot(kind='bar', stacked=True, color=['#2D2D2D','#cb202d'], figsize=(10, 6))\n",
    "\n",
    "# Add title and labels\n",
    "plt.title('Ratings vs Nature of Orders', fontsize=16)\n",
    "plt.xlabel('Ratings', fontsize=12)\n",
    "plt.ylabel('No. of Orders', fontsize=12)\n",
    "\n",
    "\n",
    "plt.xticks(rotation=45, ha='right')\n",
    "\n",
    "# Add a grid for better readability\n",
    "plt.grid(axis='y', linestyle='--', alpha=0.7)\n",
    "\n",
    "# Add a legend\n",
    "plt.legend(title='Online Order?', loc='upper right', fontsize=10)\n",
    "\n",
    "# Show plot\n",
    "plt.tight_layout()\n",
    "plt.show()\n"
   ]
  },
  {
   "cell_type": "markdown",
   "id": "5386e8d2",
   "metadata": {},
   "source": [
    "### Conclusion:\n",
    "\n",
    ">For restaurants with good ratings (i.e., greater than 4), it appears that in most cases, those that accept online orders tend to receive a higher number of ratings compared to restaurants that do not offer online ordering.\n",
    "\n"
   ]
  },
  {
   "cell_type": "markdown",
   "id": "63e3adc3",
   "metadata": {},
   "source": [
    "### Data Cleaning to perform Text Analysis"
   ]
  },
  {
   "cell_type": "markdown",
   "id": "6d18da4e",
   "metadata": {},
   "source": [
    "We are going to check the different kinds of restaurants we have here but first, we need to remove missing values"
   ]
  },
  {
   "cell_type": "code",
   "execution_count": 19,
   "id": "ffd77e7d",
   "metadata": {},
   "outputs": [],
   "source": [
    "rest_data = df.dropna(subset=['rest_type']).reset_index(drop=True)\n"
   ]
  },
  {
   "cell_type": "code",
   "execution_count": 20,
   "id": "20f8662b",
   "metadata": {},
   "outputs": [
    {
     "data": {
      "text/plain": [
       "rest_type\n",
       "Quick Bites                   19132\n",
       "Casual Dining                 10330\n",
       "Cafe                           3732\n",
       "Delivery                       2604\n",
       "Dessert Parlor                 2263\n",
       "                              ...  \n",
       "Dessert Parlor, Kiosk             2\n",
       "Food Court, Beverage Shop         2\n",
       "Dessert Parlor, Food Court        2\n",
       "Sweet Shop, Dessert Parlor        1\n",
       "Quick Bites, Kiosk                1\n",
       "Name: count, Length: 93, dtype: int64"
      ]
     },
     "execution_count": 20,
     "metadata": {},
     "output_type": "execute_result"
    }
   ],
   "source": [
    "rest_data['rest_type'].value_counts()"
   ]
  },
  {
   "cell_type": "markdown",
   "id": "02d3834f",
   "metadata": {},
   "source": [
    "Let's pick 'Quick Bites' type restaurants to make some inspection:"
   ]
  },
  {
   "cell_type": "code",
   "execution_count": 21,
   "id": "2c6d4dcf",
   "metadata": {},
   "outputs": [],
   "source": [
    "quick_bites_df = rest_data[rest_data['rest_type'].str.contains('Quick Bites')]"
   ]
  },
  {
   "cell_type": "code",
   "execution_count": 22,
   "id": "42a7c434",
   "metadata": {},
   "outputs": [
    {
     "data": {
      "text/plain": [
       "(20639, 18)"
      ]
     },
     "execution_count": 22,
     "metadata": {},
     "output_type": "execute_result"
    }
   ],
   "source": [
    "quick_bites_df.shape"
   ]
  },
  {
   "cell_type": "code",
   "execution_count": 23,
   "id": "bac1f121",
   "metadata": {},
   "outputs": [
    {
     "data": {
      "text/plain": [
       "3        [('Rated 4.0', \"RATED\\n  Great food and proper...\n",
       "23       [('Rated 4.0', \"RATED\\n  So, went here with fr...\n",
       "26       [('Rated 5.0', 'RATED\\n  please provide some e...\n",
       "31       [('Rated 1.0', \"RATED\\n  Worst restaurant ever...\n",
       "34       [('Rated 3.0', 'RATED\\n  Not worth for the mon...\n",
       "                               ...                        \n",
       "51414    [('Rated 2.0', \"RATED\\n  Food is not upto the ...\n",
       "51415                                                   []\n",
       "51416                                                   []\n",
       "51417                                                   []\n",
       "51418    [('Rated 5.0', \"RATED\\n  I was randomly lookin...\n",
       "Name: reviews_list, Length: 20639, dtype: object"
      ]
     },
     "execution_count": 23,
     "metadata": {},
     "output_type": "execute_result"
    }
   ],
   "source": [
    "quick_bites_df.reviews_list"
   ]
  },
  {
   "cell_type": "code",
   "execution_count": 24,
   "id": "ad25031d",
   "metadata": {},
   "outputs": [
    {
     "data": {
      "text/plain": [
       "Index(['index', 'url', 'address', 'name', 'online_order', 'book_table', 'rate',\n",
       "       'votes', 'phone', 'location', 'rest_type', 'dish_liked', 'cuisines',\n",
       "       'approx_cost(for two people)', 'reviews_list', 'menu_item',\n",
       "       'listed_in(type)', 'listed_in(city)'],\n",
       "      dtype='object')"
      ]
     },
     "execution_count": 24,
     "metadata": {},
     "output_type": "execute_result"
    }
   ],
   "source": [
    "quick_bites_df.columns"
   ]
  },
  {
   "cell_type": "markdown",
   "id": "12442986",
   "metadata": {},
   "source": [
    "### Text Data Pre-processing Steps:\n",
    ">Convert Text to Lowercase: Transform all text data to lowercase for uniformity.<br>\n",
    ">Tokenization: Break down the text into individual tokens (words).<br>\n",
    ">Remove Stopwords: Eliminate common stopwords (e.g., \"and\", \"the\") from the data to focus on meaningful words.<br>\n",
    ">Store Data in a List: Store the processed data in a list to compute word frequency.<br>\n",
    ">Plot Word Frequencies: Perform Unigram, Bigram, and Trigram analysis to visualize word frequencies and patterns.\n"
   ]
  },
  {
   "cell_type": "code",
   "execution_count": 25,
   "id": "387b8ef1",
   "metadata": {},
   "outputs": [
    {
     "name": "stderr",
     "output_type": "stream",
     "text": [
      "C:\\Users\\sayan\\AppData\\Local\\Temp\\ipykernel_23012\\1046038503.py:2: SettingWithCopyWarning: \n",
      "A value is trying to be set on a copy of a slice from a DataFrame.\n",
      "Try using .loc[row_indexer,col_indexer] = value instead\n",
      "\n",
      "See the caveats in the documentation: https://pandas.pydata.org/pandas-docs/stable/user_guide/indexing.html#returning-a-view-versus-a-copy\n",
      "  quick_bites_df['reviews_list'] = quick_bites_df['reviews_list'].apply(lambda x:x.lower())\n"
     ]
    }
   ],
   "source": [
    "#Transforming all text data to lowercase \n",
    "quick_bites_df['reviews_list'] = quick_bites_df['reviews_list'].apply(lambda x:x.lower())"
   ]
  },
  {
   "cell_type": "code",
   "execution_count": 26,
   "id": "c5f94a1b",
   "metadata": {},
   "outputs": [],
   "source": [
    "##  Creating a regular expression tokenizer that have only alphabets , ie remove all the special characters\n",
    "\n",
    "tokenizer = RegexpTokenizer(\"[a-zA-Z]+\")"
   ]
  },
  {
   "cell_type": "code",
   "execution_count": 27,
   "id": "e6a01724",
   "metadata": {},
   "outputs": [
    {
     "data": {
      "text/plain": [
       "RegexpTokenizer(pattern='[a-zA-Z]+', gaps=False, discard_empty=True, flags=re.UNICODE|re.MULTILINE|re.DOTALL)"
      ]
     },
     "execution_count": 27,
     "metadata": {},
     "output_type": "execute_result"
    }
   ],
   "source": [
    "tokenizer"
   ]
  },
  {
   "cell_type": "code",
   "execution_count": 28,
   "id": "25c1dd7c",
   "metadata": {},
   "outputs": [],
   "source": [
    "reviews_tokens = df['reviews_list'].apply(tokenizer.tokenize)"
   ]
  },
  {
   "cell_type": "code",
   "execution_count": 29,
   "id": "4e6f4656",
   "metadata": {},
   "outputs": [
    {
     "data": {
      "text/plain": [
       "0        [Rated, RATED, n, A, beautiful, place, to, din...\n",
       "1        [Rated, RATED, n, Had, been, here, for, dinner...\n",
       "2        [Rated, RATED, n, Ambience, is, not, that, goo...\n",
       "3        [Rated, RATED, n, Great, food, and, proper, Ka...\n",
       "4        [Rated, RATED, n, Very, good, restaurant, in, ...\n",
       "                               ...                        \n",
       "51712    [Rated, RATED, n, Food, and, service, are, inc...\n",
       "51713                                                   []\n",
       "51714                                                   []\n",
       "51715    [Rated, RATED, n, Nice, and, friendly, place, ...\n",
       "51716    [Rated, RATED, n, Great, ambience, looking, ni...\n",
       "Name: reviews_list, Length: 51717, dtype: object"
      ]
     },
     "execution_count": 29,
     "metadata": {},
     "output_type": "execute_result"
    }
   ],
   "source": [
    "reviews_tokens"
   ]
  },
  {
   "cell_type": "code",
   "execution_count": 30,
   "id": "3a2ac799",
   "metadata": {},
   "outputs": [],
   "source": [
    "#importing stopwords of English\n",
    "stop = stopwords.words('english')"
   ]
  },
  {
   "cell_type": "code",
   "execution_count": 31,
   "id": "cad2f787",
   "metadata": {},
   "outputs": [],
   "source": [
    "# Adding custom words to stopwords \n",
    "stop.extend(['rated' , \"n\" , \"nan\" , \"x\" , \"RATED\" , \"Rated\"])"
   ]
  },
  {
   "cell_type": "code",
   "execution_count": 32,
   "id": "e3e70ffa",
   "metadata": {},
   "outputs": [],
   "source": [
    "## remove stopwords from \"reviews_tokens\" Series ..\n",
    "reviews_tokens_clean = reviews_tokens.apply(lambda x : [token for token in x if token not in stop])"
   ]
  },
  {
   "cell_type": "code",
   "execution_count": 33,
   "id": "18eb9faf",
   "metadata": {},
   "outputs": [
    {
     "data": {
      "text/plain": [
       "0        [A, beautiful, place, dine, The, interiors, ta...\n",
       "1        [Had, dinner, family, Turned, good, choose, su...\n",
       "2        [Ambience, good, enough, pocket, friendly, caf...\n",
       "3        [Great, food, proper, Karnataka, style, full, ...\n",
       "4        [Very, good, restaurant, neighbourhood, Buffet...\n",
       "                               ...                        \n",
       "51712    [Food, service, incomparably, excellent, The, ...\n",
       "51713                                                   []\n",
       "51714                                                   []\n",
       "51715    [Nice, friendly, place, staff, awesome, Ansur,...\n",
       "51716    [Great, ambience, looking, nice, good, selecti...\n",
       "Name: reviews_list, Length: 51717, dtype: object"
      ]
     },
     "execution_count": 33,
     "metadata": {},
     "output_type": "execute_result"
    }
   ],
   "source": [
    "reviews_tokens_clean"
   ]
  },
  {
   "cell_type": "code",
   "execution_count": 34,
   "id": "daa9bf71",
   "metadata": {},
   "outputs": [],
   "source": [
    "#converting the reviews into a 2d list\n",
    "rev = reviews_tokens_clean.tolist()"
   ]
  },
  {
   "cell_type": "code",
   "execution_count": 35,
   "id": "51720bdb",
   "metadata": {},
   "outputs": [],
   "source": [
    "#extracting words from each reviews to count them \n",
    "total_reviews=[]\n",
    "\n",
    "for review in rev:\n",
    "    for word in review:\n",
    "        total_reviews.append(word)"
   ]
  },
  {
   "cell_type": "code",
   "execution_count": 36,
   "id": "cc77f763",
   "metadata": {},
   "outputs": [
    {
     "data": {
      "text/plain": [
       "['A',\n",
       " 'beautiful',\n",
       " 'place',\n",
       " 'dine',\n",
       " 'The',\n",
       " 'interiors',\n",
       " 'take',\n",
       " 'back',\n",
       " 'Mughal',\n",
       " 'era',\n",
       " 'The',\n",
       " 'lightings',\n",
       " 'perfect',\n",
       " 'We',\n",
       " 'went',\n",
       " 'occasion',\n",
       " 'Christmas',\n",
       " 'limited',\n",
       " 'items',\n",
       " 'available',\n",
       " 'But',\n",
       " 'taste',\n",
       " 'service',\n",
       " 'compromised',\n",
       " 'The',\n",
       " 'complaint',\n",
       " 'breads',\n",
       " 'could',\n",
       " 'better',\n",
       " 'Would',\n",
       " 'surely',\n",
       " 'like',\n",
       " 'come',\n",
       " 'I',\n",
       " 'dinner',\n",
       " 'family',\n",
       " 'weekday',\n",
       " 'The',\n",
       " 'restaurant',\n",
       " 'completely',\n",
       " 'empty',\n",
       " 'Ambience',\n",
       " 'good',\n",
       " 'good',\n",
       " 'old',\n",
       " 'hindi',\n",
       " 'music',\n",
       " 'Seating',\n",
       " 'arrangement',\n",
       " 'good',\n",
       " 'We',\n",
       " 'ordered',\n",
       " 'masala',\n",
       " 'papad',\n",
       " 'panner',\n",
       " 'baby',\n",
       " 'corn',\n",
       " 'starters',\n",
       " 'lemon',\n",
       " 'corrionder',\n",
       " 'soup',\n",
       " 'butter',\n",
       " 'roti',\n",
       " 'olive',\n",
       " 'chilli',\n",
       " 'paratha',\n",
       " 'Food',\n",
       " 'fresh',\n",
       " 'good',\n",
       " 'service',\n",
       " 'good',\n",
       " 'Good',\n",
       " 'family',\n",
       " 'hangout',\n",
       " 'nCheers',\n",
       " 'Its',\n",
       " 'restaurant',\n",
       " 'near',\n",
       " 'Banashankari',\n",
       " 'BDA',\n",
       " 'Me',\n",
       " 'along',\n",
       " 'office',\n",
       " 'friends',\n",
       " 'visited',\n",
       " 'buffet',\n",
       " 'unfortunately',\n",
       " 'provide',\n",
       " 'veg',\n",
       " 'buffet',\n",
       " 'On',\n",
       " 'inquiring',\n",
       " 'said',\n",
       " 'place',\n",
       " 'mostly',\n",
       " 'visited',\n",
       " 'vegetarians',\n",
       " 'Anyways',\n",
       " 'ordered',\n",
       " 'ala',\n",
       " 'carte',\n",
       " 'items',\n",
       " 'took',\n",
       " 'ages',\n",
       " 'come',\n",
       " 'Food',\n",
       " 'ok',\n",
       " 'ok',\n",
       " 'Definitely',\n",
       " 'visiting',\n",
       " 'anymore',\n",
       " 'We',\n",
       " 'went',\n",
       " 'weekend',\n",
       " 'one',\n",
       " 'us',\n",
       " 'buffet',\n",
       " 'two',\n",
       " 'us',\n",
       " 'took',\n",
       " 'Ala',\n",
       " 'Carte',\n",
       " 'Firstly',\n",
       " 'ambience',\n",
       " 'service',\n",
       " 'place',\n",
       " 'great',\n",
       " 'The',\n",
       " 'buffet',\n",
       " 'lot',\n",
       " 'items',\n",
       " 'good',\n",
       " 'good',\n",
       " 'We',\n",
       " 'Pumpkin',\n",
       " 'Halwa',\n",
       " 'intm',\n",
       " 'dessert',\n",
       " 'amazing',\n",
       " 'Must',\n",
       " 'try',\n",
       " 'The',\n",
       " 'kulchas',\n",
       " 'great',\n",
       " 'Cheers',\n",
       " 'The',\n",
       " 'best',\n",
       " 'thing',\n",
       " 'place',\n",
       " 'ambiance',\n",
       " 'Second',\n",
       " 'best',\n",
       " 'thing',\n",
       " 'yummy',\n",
       " 'food',\n",
       " 'We',\n",
       " 'try',\n",
       " 'buffet',\n",
       " 'buffet',\n",
       " 'food',\n",
       " 'disappointed',\n",
       " 'us',\n",
       " 'nTest',\n",
       " 'nQuality',\n",
       " 'nService',\n",
       " 'Staff',\n",
       " 'professional',\n",
       " 'friendly',\n",
       " 'nOverall',\n",
       " 'experience',\n",
       " 'excellent',\n",
       " 'nsubirmajumder',\n",
       " 'wixsite',\n",
       " 'com',\n",
       " 'Great',\n",
       " 'food',\n",
       " 'pleasant',\n",
       " 'ambience',\n",
       " 'Expensive',\n",
       " 'Coll',\n",
       " 'place',\n",
       " 'chill',\n",
       " 'relax',\n",
       " 'nService',\n",
       " 'really',\n",
       " 'good',\n",
       " 'friendly',\n",
       " 'staff',\n",
       " 'nFood',\n",
       " 'nService',\n",
       " 'nAmbience',\n",
       " 'nOverall',\n",
       " 'Good',\n",
       " 'ambience',\n",
       " 'tasty',\n",
       " 'food',\n",
       " 'nCheese',\n",
       " 'chilli',\n",
       " 'paratha',\n",
       " 'Bhutta',\n",
       " 'palak',\n",
       " 'methi',\n",
       " 'curry',\n",
       " 'good',\n",
       " 'combo',\n",
       " 'nLemon',\n",
       " 'Chicken',\n",
       " 'starters',\n",
       " 'must',\n",
       " 'try',\n",
       " 'item',\n",
       " 'nEgg',\n",
       " 'fried',\n",
       " 'rice',\n",
       " 'also',\n",
       " 'quite',\n",
       " 'tasty',\n",
       " 'nIn',\n",
       " 'mocktails',\n",
       " 'recommend',\n",
       " 'Alice',\n",
       " 'Junoon',\n",
       " 'Do',\n",
       " 'miss',\n",
       " 'You',\n",
       " 'go',\n",
       " 'wrong',\n",
       " 'Jalsa',\n",
       " 'Never',\n",
       " 'fan',\n",
       " 'buffet',\n",
       " 'thus',\n",
       " 'always',\n",
       " 'order',\n",
       " 'alacarte',\n",
       " 'Service',\n",
       " 'times',\n",
       " 'slower',\n",
       " 'side',\n",
       " 'food',\n",
       " 'worth',\n",
       " 'wait',\n",
       " 'Overdelighted',\n",
       " 'service',\n",
       " 'food',\n",
       " 'provided',\n",
       " 'place',\n",
       " 'A',\n",
       " 'royal',\n",
       " 'ethnic',\n",
       " 'atmosphere',\n",
       " 'builds',\n",
       " 'strong',\n",
       " 'essence',\n",
       " 'India',\n",
       " 'also',\n",
       " 'quality',\n",
       " 'taste',\n",
       " 'food',\n",
       " 'truly',\n",
       " 'authentic',\n",
       " 'I',\n",
       " 'would',\n",
       " 'totally',\n",
       " 'recommend',\n",
       " 'visit',\n",
       " 'place',\n",
       " 'The',\n",
       " 'place',\n",
       " 'nice',\n",
       " 'comfortable',\n",
       " 'Food',\n",
       " 'wise',\n",
       " 'jalea',\n",
       " 'outlets',\n",
       " 'maintain',\n",
       " 'good',\n",
       " 'standard',\n",
       " 'The',\n",
       " 'soya',\n",
       " 'chaap',\n",
       " 'standout',\n",
       " 'dish',\n",
       " 'Clearly',\n",
       " 'one',\n",
       " 'trademark',\n",
       " 'dish',\n",
       " 'per',\n",
       " 'must',\n",
       " 'try',\n",
       " 'nThe',\n",
       " 'concern',\n",
       " 'parking',\n",
       " 'It',\n",
       " 'congested',\n",
       " 'limited',\n",
       " 'cars',\n",
       " 'The',\n",
       " 'basement',\n",
       " 'parking',\n",
       " 'steep',\n",
       " 'makes',\n",
       " 'cumbersome',\n",
       " 'The',\n",
       " 'place',\n",
       " 'nice',\n",
       " 'comfortable',\n",
       " 'Food',\n",
       " 'wise',\n",
       " 'jalea',\n",
       " 'outlets',\n",
       " 'maintain',\n",
       " 'good',\n",
       " 'standard',\n",
       " 'The',\n",
       " 'soya',\n",
       " 'chaap',\n",
       " 'standout',\n",
       " 'dish',\n",
       " 'Clearly',\n",
       " 'one',\n",
       " 'trademark',\n",
       " 'dish',\n",
       " 'per',\n",
       " 'must',\n",
       " 'try',\n",
       " 'nThe',\n",
       " 'concern',\n",
       " 'parking',\n",
       " 'It',\n",
       " 'congested',\n",
       " 'limited',\n",
       " 'cars',\n",
       " 'The',\n",
       " 'basement',\n",
       " 'parking',\n",
       " 'steep',\n",
       " 'makes',\n",
       " 'cumbersome',\n",
       " 'The',\n",
       " 'place',\n",
       " 'nice',\n",
       " 'comfortable',\n",
       " 'Food',\n",
       " 'wise',\n",
       " 'jalea',\n",
       " 'outlets',\n",
       " 'maintain',\n",
       " 'good',\n",
       " 'standard',\n",
       " 'The',\n",
       " 'soya',\n",
       " 'chaap',\n",
       " 'standout',\n",
       " 'dish',\n",
       " 'Clearly',\n",
       " 'one',\n",
       " 'trademark',\n",
       " 'dish',\n",
       " 'per',\n",
       " 'must',\n",
       " 'try',\n",
       " 'nThe',\n",
       " 'concern',\n",
       " 'parking',\n",
       " 'It',\n",
       " 'congested',\n",
       " 'limited',\n",
       " 'cars',\n",
       " 'The',\n",
       " 'basement',\n",
       " 'parking',\n",
       " 'steep',\n",
       " 'makes',\n",
       " 'cumbersome',\n",
       " 'Had',\n",
       " 'dinner',\n",
       " 'family',\n",
       " 'Turned',\n",
       " 'good',\n",
       " 'choose',\n",
       " 'suitable',\n",
       " 'ages',\n",
       " 'people',\n",
       " 'Can',\n",
       " 'try',\n",
       " 'place',\n",
       " 'We',\n",
       " 'liked',\n",
       " 'starters',\n",
       " 'Service',\n",
       " 'good',\n",
       " 'Prices',\n",
       " 'affordable',\n",
       " 'Will',\n",
       " 'recommend',\n",
       " 'restaurant',\n",
       " 'early',\n",
       " 'dinner',\n",
       " 'The',\n",
       " 'place',\n",
       " 'little',\n",
       " 'noisy',\n",
       " 'The',\n",
       " 'ambience',\n",
       " 'really',\n",
       " 'nice',\n",
       " 'staff',\n",
       " 'courteous',\n",
       " 'The',\n",
       " 'price',\n",
       " 'pretty',\n",
       " 'high',\n",
       " 'quantity',\n",
       " 'overall',\n",
       " 'experience',\n",
       " 'fine',\n",
       " 'The',\n",
       " 'quality',\n",
       " 'food',\n",
       " 'nice',\n",
       " 'nothing',\n",
       " 'extraordinary',\n",
       " 'They',\n",
       " 'also',\n",
       " 'buffet',\n",
       " 'veg',\n",
       " 'I',\n",
       " 'felt',\n",
       " 'good',\n",
       " 'little',\n",
       " 'expensive',\n",
       " 'quantity',\n",
       " 'serve',\n",
       " 'In',\n",
       " 'terms',\n",
       " 'taste',\n",
       " 'decent',\n",
       " 'There',\n",
       " 'nothing',\n",
       " 'much',\n",
       " 'talk',\n",
       " 'ambience',\n",
       " 'regular',\n",
       " 'casual',\n",
       " 'dining',\n",
       " 'restaurant',\n",
       " 'take',\n",
       " 'family',\n",
       " 'dinner',\n",
       " 'lunch',\n",
       " 'If',\n",
       " 'improve',\n",
       " 'quantity',\n",
       " 'may',\n",
       " 'reduce',\n",
       " 'price',\n",
       " 'bit',\n",
       " 'may',\n",
       " 'improve',\n",
       " 'presentation',\n",
       " 'food',\n",
       " 'might',\n",
       " 'Manage',\n",
       " 'get',\n",
       " 'repeat',\n",
       " 'customers',\n",
       " 'I',\n",
       " 'looking',\n",
       " 'quite',\n",
       " 'place',\n",
       " 'spend',\n",
       " 'time',\n",
       " 'family',\n",
       " 'well',\n",
       " 'wanted',\n",
       " 'try',\n",
       " 'new',\n",
       " 'place',\n",
       " 'Since',\n",
       " 'I',\n",
       " 'Banashankari',\n",
       " 'I',\n",
       " 'thought',\n",
       " 'trying',\n",
       " 'place',\n",
       " 'The',\n",
       " 'place',\n",
       " 'good',\n",
       " 'rating',\n",
       " 'part',\n",
       " 'Zomato',\n",
       " 'gold',\n",
       " 'So',\n",
       " 'I',\n",
       " 'decided',\n",
       " 'try',\n",
       " 'place',\n",
       " 'It',\n",
       " 'delite',\n",
       " 'see',\n",
       " 'friendly',\n",
       " 'staff',\n",
       " 'food',\n",
       " 'ordered',\n",
       " 'tasty',\n",
       " 'well',\n",
       " 'nFood',\n",
       " 'nAmbience',\n",
       " 'nFriendly',\n",
       " 'staff',\n",
       " 'nPocket',\n",
       " 'friendly',\n",
       " 'nWill',\n",
       " 'definitely',\n",
       " 'visit',\n",
       " 'Nice',\n",
       " 'place',\n",
       " 'dine',\n",
       " 'good',\n",
       " 'ambiance',\n",
       " 'Food',\n",
       " 'good',\n",
       " 'serving',\n",
       " 'time',\n",
       " 'also',\n",
       " 'good',\n",
       " 'neat',\n",
       " 'restrooms',\n",
       " 'arranged',\n",
       " 'tables',\n",
       " 'thing',\n",
       " 'went',\n",
       " 'lunch',\n",
       " 'noticed',\n",
       " 'kept',\n",
       " 'playing',\n",
       " 'one',\n",
       " 'music',\n",
       " 'back',\n",
       " 'back',\n",
       " 'little',\n",
       " 'annoying',\n",
       " 'Chicken',\n",
       " 'biriyani',\n",
       " 'good',\n",
       " 'chicken',\n",
       " 'fresh',\n",
       " 'tender',\n",
       " 'rice',\n",
       " 'well',\n",
       " 'cooked',\n",
       " 'overall',\n",
       " 'great',\n",
       " 'Mutton',\n",
       " 'biriyani',\n",
       " 'good',\n",
       " 'tasty',\n",
       " 'It',\n",
       " 'plenty',\n",
       " 'mutton',\n",
       " 'pieces',\n",
       " 'This',\n",
       " 'place',\n",
       " 'cool',\n",
       " 'good',\n",
       " 'ambience',\n",
       " 'slow',\n",
       " 'music',\n",
       " 'delicious',\n",
       " 'food',\n",
       " 'find',\n",
       " 'peace',\n",
       " 'Staff',\n",
       " 'friendly',\n",
       " 'maintained',\n",
       " 'place',\n",
       " 'clean',\n",
       " 'The',\n",
       " 'price',\n",
       " 'average',\n",
       " 'quantity',\n",
       " 'food',\n",
       " 'serve',\n",
       " 'nThom',\n",
       " 'yum',\n",
       " 'Thai',\n",
       " 'soup',\n",
       " 'best',\n",
       " 'treat',\n",
       " 'mouth',\n",
       " 'roti',\n",
       " 'soft',\n",
       " 'vilaythi',\n",
       " 'paneer',\n",
       " 'perfect',\n",
       " 'veggie',\n",
       " 'foodies',\n",
       " 'rice',\n",
       " 'tried',\n",
       " 'burnt',\n",
       " 'garlic',\n",
       " 'fried',\n",
       " 'rice',\n",
       " 'vegetables',\n",
       " 'perfect',\n",
       " 'thing',\n",
       " 'end',\n",
       " 'Quiet',\n",
       " 'good',\n",
       " 'family',\n",
       " 'type',\n",
       " 'place',\n",
       " 'calm',\n",
       " 'usually',\n",
       " 'find',\n",
       " 'crowd',\n",
       " 'panner',\n",
       " 'curry',\n",
       " 'deserts',\n",
       " 'tasted',\n",
       " 'wer',\n",
       " 'really',\n",
       " 'good',\n",
       " 'found',\n",
       " 'little',\n",
       " 'expensive',\n",
       " 'I',\n",
       " 'bad',\n",
       " 'experience',\n",
       " 'nI',\n",
       " 'know',\n",
       " 'la',\n",
       " 'carte',\n",
       " 'buffet',\n",
       " 'worst',\n",
       " 'They',\n",
       " 'gave',\n",
       " 'us',\n",
       " 'complementary',\n",
       " 'drink',\n",
       " 'momos',\n",
       " 'buffet',\n",
       " 'The',\n",
       " 'momos',\n",
       " 'really',\n",
       " 'good',\n",
       " 'nThe',\n",
       " 'number',\n",
       " 'varieties',\n",
       " 'first',\n",
       " 'disappointing',\n",
       " 'The',\n",
       " 'service',\n",
       " 'slow',\n",
       " 'They',\n",
       " 'refilled',\n",
       " 'food',\n",
       " 'slowly',\n",
       " 'The',\n",
       " 'starters',\n",
       " 'okay',\n",
       " 'The',\n",
       " 'main',\n",
       " 'course',\n",
       " 'also',\n",
       " 'There',\n",
       " 'two',\n",
       " 'gravies',\n",
       " 'roti',\n",
       " 'rice',\n",
       " 'raitha',\n",
       " 'They',\n",
       " 'chats',\n",
       " 'sev',\n",
       " 'puri',\n",
       " 'pan',\n",
       " 'puri',\n",
       " 'average',\n",
       " 'But',\n",
       " 'desert',\n",
       " 'disappointing',\n",
       " 'They',\n",
       " 'gulab',\n",
       " 'Jamun',\n",
       " 'chocolate',\n",
       " 'cake',\n",
       " 'The',\n",
       " 'jamun',\n",
       " 'cooked',\n",
       " 'inside',\n",
       " 'There',\n",
       " 'cold',\n",
       " 'blob',\n",
       " 'raw',\n",
       " 'dough',\n",
       " 'inside',\n",
       " 'The',\n",
       " 'chocolate',\n",
       " 'cake',\n",
       " 'also',\n",
       " 'really',\n",
       " 'hard',\n",
       " 'good',\n",
       " 'nOverall',\n",
       " 'buffet',\n",
       " 'bad',\n",
       " 'experience',\n",
       " 'Food',\n",
       " 'nAmbience',\n",
       " 'nStaff',\n",
       " 'nOne',\n",
       " 'good',\n",
       " 'places',\n",
       " 'try',\n",
       " 'north',\n",
       " 'Indian',\n",
       " 'food',\n",
       " 'depends',\n",
       " 'ur',\n",
       " 'taste',\n",
       " 'buds',\n",
       " 'Not',\n",
       " 'everyone',\n",
       " 'like',\n",
       " 'items',\n",
       " 'Specially',\n",
       " 'u',\n",
       " 'r',\n",
       " 'particular',\n",
       " 'abt',\n",
       " 'sweet',\n",
       " 'spicy',\n",
       " 'food',\n",
       " 'nThere',\n",
       " 'buffet',\n",
       " 'available',\n",
       " 'nWe',\n",
       " 'ordered',\n",
       " 'paneer',\n",
       " 'uttar',\n",
       " 'dakshin',\n",
       " 'paneer',\n",
       " 'kurchan',\n",
       " 'amazing',\n",
       " 'The',\n",
       " 'Gobi',\n",
       " 'hara',\n",
       " 'pyaz',\n",
       " 'mix',\n",
       " 'veg',\n",
       " 'average',\n",
       " 'A',\n",
       " 'decent',\n",
       " 'place',\n",
       " 'family',\n",
       " 'lunch',\n",
       " 'dinner',\n",
       " 'well',\n",
       " 'arranged',\n",
       " 'simple',\n",
       " 'manner',\n",
       " 'Food',\n",
       " 'tasty',\n",
       " 'crew',\n",
       " 'helpful',\n",
       " 'understanding',\n",
       " 'Great',\n",
       " 'place',\n",
       " 'heavy',\n",
       " 'lunch',\n",
       " 'Good',\n",
       " 'service',\n",
       " 'nThe',\n",
       " 'chicken',\n",
       " 'biryani',\n",
       " 'undoubtedly',\n",
       " 'one',\n",
       " 'best',\n",
       " 'I',\n",
       " 'Biriyani',\n",
       " 'Lassi',\n",
       " 'would',\n",
       " 'suggested',\n",
       " 'combo',\n",
       " 'Buffet',\n",
       " 'talk',\n",
       " 'place',\n",
       " 'try',\n",
       " 'according',\n",
       " 'appetite',\n",
       " 'A',\n",
       " 'nice',\n",
       " 'place',\n",
       " 'Its',\n",
       " 'one',\n",
       " 'restaurant',\n",
       " 'near',\n",
       " 'katriguppe',\n",
       " 'found',\n",
       " 'really',\n",
       " 'good',\n",
       " 'Good',\n",
       " 'variety',\n",
       " 'Chinese',\n",
       " 'thai',\n",
       " 'dishes',\n",
       " 'Service',\n",
       " 'good',\n",
       " 'good',\n",
       " 'place',\n",
       " 'hangout',\n",
       " 'family',\n",
       " 'peaceful',\n",
       " 'place',\n",
       " 'noise',\n",
       " 'really',\n",
       " 'less',\n",
       " 'good',\n",
       " 'view',\n",
       " 'Spice',\n",
       " 'elephant',\n",
       " 'soup',\n",
       " 'SPL',\n",
       " 'almost',\n",
       " 'manchow',\n",
       " 'flavour',\n",
       " 'soup',\n",
       " 'Just',\n",
       " 'medium',\n",
       " 'spicy',\n",
       " 'nLasooni',\n",
       " 'fish',\n",
       " 'tikka',\n",
       " 'awesome',\n",
       " 'nI',\n",
       " 'remember',\n",
       " 'dessert',\n",
       " 'name',\n",
       " 'I',\n",
       " 'attached',\n",
       " 'photo',\n",
       " 'It',\n",
       " 'vanilla',\n",
       " 'ice',\n",
       " 'inside',\n",
       " 'wafers',\n",
       " 'Wafer',\n",
       " 'hell',\n",
       " 'hard',\n",
       " 'egg',\n",
       " 'smell',\n",
       " 'chewy',\n",
       " 'Nightmare',\n",
       " 'dessert',\n",
       " 'nTable',\n",
       " 'leg',\n",
       " 'space',\n",
       " 'bad',\n",
       " 'I',\n",
       " 'uncomfortable',\n",
       " 'whole',\n",
       " 'time',\n",
       " 'kept',\n",
       " 'adjusting',\n",
       " 'legs',\n",
       " 'nNo',\n",
       " 'parking',\n",
       " 'nFor',\n",
       " 'taste',\n",
       " 'felt',\n",
       " 'costly',\n",
       " 'Zomato',\n",
       " 'gold',\n",
       " 'partner',\n",
       " 'price',\n",
       " 'It',\n",
       " 'insane',\n",
       " 'They',\n",
       " 'really',\n",
       " 'nice',\n",
       " 'food',\n",
       " 'small',\n",
       " 'place',\n",
       " 'courteous',\n",
       " 'staff',\n",
       " 'cheap',\n",
       " 'food',\n",
       " 'ambience',\n",
       " 'Cost',\n",
       " 'soups',\n",
       " 'Starters',\n",
       " 'Main',\n",
       " 'course',\n",
       " 'Cost',\n",
       " 'two',\n",
       " 'us',\n",
       " 'Ambience',\n",
       " 'good',\n",
       " 'enough',\n",
       " 'pocket',\n",
       " 'friendly',\n",
       " 'cafe',\n",
       " 'quantity',\n",
       " 'good',\n",
       " 'desserts',\n",
       " 'good',\n",
       " 'enough',\n",
       " 'nWent',\n",
       " 'quick',\n",
       " 'bite',\n",
       " 'friends',\n",
       " 'nThe',\n",
       " 'ambience',\n",
       " 'corporate',\n",
       " 'feel',\n",
       " 'I',\n",
       " 'would',\n",
       " 'say',\n",
       " 'unique',\n",
       " 'nTried',\n",
       " 'nachos',\n",
       " 'pasta',\n",
       " 'churros',\n",
       " 'lasagne',\n",
       " 'nNachos',\n",
       " 'pathetic',\n",
       " 'Seriously',\n",
       " 'order',\n",
       " 'nPasta',\n",
       " 'okayish',\n",
       " 'nLasagne',\n",
       " 'good',\n",
       " 'nNutella',\n",
       " 'churros',\n",
       " 'best',\n",
       " 'nOverall',\n",
       " 'okayish',\n",
       " 'experience',\n",
       " 'nPeace',\n",
       " 'First',\n",
       " 'big',\n",
       " 'thanks',\n",
       " 'staff',\n",
       " 'Cafe',\n",
       " 'Very',\n",
       " 'polite',\n",
       " 'courteous',\n",
       " 'nI',\n",
       " 'mins',\n",
       " 'closing',\n",
       " 'time',\n",
       " 'Without',\n",
       " 'discomfort',\n",
       " 'hesitation',\n",
       " 'staff',\n",
       " 'welcomed',\n",
       " 'warm',\n",
       " 'smile',\n",
       " 'said',\n",
       " 'still',\n",
       " 'open',\n",
       " 'though',\n",
       " 'preparing',\n",
       " 'close',\n",
       " 'cafe',\n",
       " 'day',\n",
       " 'nQuickly',\n",
       " 'ordered',\n",
       " 'Thai',\n",
       " 'green',\n",
       " 'curry',\n",
       " 'served',\n",
       " 'rice',\n",
       " 'They',\n",
       " 'got',\n",
       " 'within',\n",
       " 'mins',\n",
       " 'hot',\n",
       " 'freshly',\n",
       " 'made',\n",
       " 'nIt',\n",
       " 'tasty',\n",
       " 'taste',\n",
       " 'coconut',\n",
       " 'milk',\n",
       " 'Not',\n",
       " 'spicy',\n",
       " 'mild',\n",
       " 'spicy',\n",
       " 'nI',\n",
       " 'saw',\n",
       " 'yummy',\n",
       " 'looking',\n",
       " 'dessert',\n",
       " 'menu',\n",
       " 'go',\n",
       " 'try',\n",
       " 'nA',\n",
       " 'good',\n",
       " ...]"
      ]
     },
     "execution_count": 36,
     "metadata": {},
     "output_type": "execute_result"
    }
   ],
   "source": [
    "total_reviews"
   ]
  },
  {
   "cell_type": "markdown",
   "id": "c3337fc3",
   "metadata": {},
   "source": [
    "Unigram analysis"
   ]
  },
  {
   "cell_type": "code",
   "execution_count": 37,
   "id": "ae382c7f",
   "metadata": {},
   "outputs": [],
   "source": [
    "fd = FreqDist()"
   ]
  },
  {
   "cell_type": "code",
   "execution_count": 38,
   "id": "235d12b0",
   "metadata": {},
   "outputs": [],
   "source": [
    "for word in total_reviews:\n",
    "    fd[word] = fd[word] + 1"
   ]
  },
  {
   "cell_type": "code",
   "execution_count": 39,
   "id": "6d709671",
   "metadata": {},
   "outputs": [
    {
     "data": {
      "text/plain": [
       "[('place', 961179),\n",
       " ('I', 911223),\n",
       " ('good', 874110),\n",
       " ('food', 805653),\n",
       " ('The', 669882),\n",
       " ('chicken', 315819),\n",
       " ('service', 274807),\n",
       " ('ordered', 262898),\n",
       " ('taste', 246338),\n",
       " ('great', 236470),\n",
       " ('really', 235171),\n",
       " ('try', 219291),\n",
       " ('time', 218394),\n",
       " ('ambience', 218136),\n",
       " ('one', 214399),\n",
       " ('It', 207054),\n",
       " ('also', 203060),\n",
       " ('like', 198316),\n",
       " ('We', 184751),\n",
       " ('visit', 184096)]"
      ]
     },
     "execution_count": 39,
     "metadata": {},
     "output_type": "execute_result"
    }
   ],
   "source": [
    "# Examining the top 20 most frequent words\n",
    "fd.most_common(20)"
   ]
  },
  {
   "cell_type": "code",
   "execution_count": 40,
   "id": "9f42352b",
   "metadata": {},
   "outputs": [
    {
     "data": {
      "text/plain": [
       "<Axes: xlabel='Samples', ylabel='Counts'>"
      ]
     },
     "execution_count": 40,
     "metadata": {},
     "output_type": "execute_result"
    },
    {
     "data": {
      "image/png": "[encoded data removed]",
      "text/plain": [
       "<Figure size 640x480 with 1 Axes>"
      ]
     },
     "metadata": {},
     "output_type": "display_data"
    }
   ],
   "source": [
    "fd.plot(20)"
   ]
  },
  {
   "cell_type": "markdown",
   "id": "965e1823",
   "metadata": {},
   "source": [
    "#### Observations\n",
    ">The 20 most frequent words in customer reviews include \"place,\" \"food,\" \"good,\" \"chicken,\" \"taste,\" \"service,\" and \"ambience\"\n",
    "<br>\n",
    ">However, it's not entirely clear whether the food is actually good based solely on these words. Similarly, we need to examine the context of mentions regarding \"chicken.\"\n",
    "<br>\n",
    "To derive more meaningful insights, we should consider performing a Bi-gram analysis.<br>"
   ]
  },
  {
   "cell_type": "markdown",
   "id": "b6948330",
   "metadata": {},
   "source": [
    "Bi-gram analysis"
   ]
  },
  {
   "cell_type": "code",
   "execution_count": 41,
   "id": "b3e26263",
   "metadata": {},
   "outputs": [],
   "source": [
    "bi_grams = bigrams(total_reviews)"
   ]
  },
  {
   "cell_type": "code",
   "execution_count": 42,
   "id": "b6657a79",
   "metadata": {},
   "outputs": [],
   "source": [
    "fd_bigrams = FreqDist()\n",
    "\n",
    "for bigram in bi_grams:\n",
    "    fd_bigrams[bigram] = fd_bigrams[bigram] + 1"
   ]
  },
  {
   "cell_type": "code",
   "execution_count": 43,
   "id": "39cf5fc0",
   "metadata": {},
   "outputs": [
    {
     "data": {
      "text/plain": [
       "[(('The', 'food'), 70915),\n",
       " (('really', 'good'), 64831),\n",
       " (('I', 'ordered'), 60723),\n",
       " (('This', 'place'), 55080),\n",
       " (('must', 'try'), 53951),\n",
       " (('We', 'ordered'), 52849),\n",
       " (('I', 'would'), 47479),\n",
       " (('visit', 'place'), 45456),\n",
       " (('The', 'place'), 43861),\n",
       " (('food', 'good'), 43067),\n",
       " (('good', 'food'), 42699),\n",
       " (('f', 'f'), 37348),\n",
       " (('good', 'place'), 36640),\n",
       " (('main', 'course'), 34807),\n",
       " (('The', 'ambience'), 33895),\n",
       " (('ice', 'cream'), 33429),\n",
       " (('also', 'good'), 32572),\n",
       " (('non', 'veg'), 32452),\n",
       " (('The', 'service'), 28333),\n",
       " (('I', 'tried'), 28076)]"
      ]
     },
     "execution_count": 43,
     "metadata": {},
     "output_type": "execute_result"
    }
   ],
   "source": [
    "fd_bigrams.most_common(20)"
   ]
  },
  {
   "cell_type": "code",
   "execution_count": 44,
   "id": "1c43dc81",
   "metadata": {},
   "outputs": [
    {
     "data": {
      "text/plain": [
       "<Axes: xlabel='Samples', ylabel='Counts'>"
      ]
     },
     "execution_count": 44,
     "metadata": {},
     "output_type": "execute_result"
    },
    {
     "data": {
      "image/png": "[encoded data removed]",
      "text/plain": [
       "<Figure size 640x480 with 1 Axes>"
      ]
     },
     "metadata": {},
     "output_type": "display_data"
    }
   ],
   "source": [
    "fd_bigrams.plot(20)"
   ]
  },
  {
   "cell_type": "code",
   "execution_count": 45,
   "id": "ce9c888a",
   "metadata": {},
   "outputs": [
    {
     "data": {
      "text/plain": [
       "[(('The', 'food'), 70915),\n",
       " (('really', 'good'), 64831),\n",
       " (('I', 'ordered'), 60723),\n",
       " (('This', 'place'), 55080),\n",
       " (('must', 'try'), 53951),\n",
       " (('We', 'ordered'), 52849),\n",
       " (('I', 'would'), 47479),\n",
       " (('visit', 'place'), 45456),\n",
       " (('The', 'place'), 43861),\n",
       " (('food', 'good'), 43067),\n",
       " (('good', 'food'), 42699),\n",
       " (('f', 'f'), 37348),\n",
       " (('good', 'place'), 36640),\n",
       " (('main', 'course'), 34807),\n",
       " (('The', 'ambience'), 33895),\n",
       " (('ice', 'cream'), 33429),\n",
       " (('also', 'good'), 32572),\n",
       " (('non', 'veg'), 32452),\n",
       " (('The', 'service'), 28333),\n",
       " (('I', 'tried'), 28076),\n",
       " (('place', 'I'), 27690),\n",
       " (('good', 'The'), 26858),\n",
       " (('good', 'I'), 25472),\n",
       " (('food', 'I'), 25393),\n",
       " (('one', 'best'), 24704),\n",
       " (('nWe', 'ordered'), 24624),\n",
       " (('The', 'staff'), 23892),\n",
       " (('nice', 'place'), 23531),\n",
       " (('must', 'visit'), 23505),\n",
       " (('I', 'love'), 22819),\n",
       " (('time', 'I'), 21891),\n",
       " (('place', 'good'), 21726),\n",
       " (('I', 'loved'), 21417),\n",
       " (('place', 'hangout'), 21317),\n",
       " (('pretty', 'good'), 21167),\n",
       " (('I', 'like'), 20602),\n",
       " (('quality', 'food'), 20151),\n",
       " (('service', 'good'), 20075),\n",
       " (('taste', 'good'), 20017),\n",
       " (('good', 'service'), 19724),\n",
       " (('value', 'money'), 19622),\n",
       " (('pocket', 'friendly'), 19427),\n",
       " (('I', 'visited'), 19068),\n",
       " (('fried', 'rice'), 18932),\n",
       " (('great', 'place'), 18132),\n",
       " (('nThe', 'food'), 18118),\n",
       " (('good', 'experience'), 17713),\n",
       " (('I', 'went'), 17677),\n",
       " (('visited', 'place'), 17647),\n",
       " (('ambience', 'good'), 17597),\n",
       " (('good', 'taste'), 17181),\n",
       " (('first', 'time'), 16943),\n",
       " (('recommend', 'place'), 16902),\n",
       " (('place', 'The'), 16572),\n",
       " (('I', 'really'), 16157),\n",
       " (('One', 'best'), 16069),\n",
       " (('I', 'liked'), 16047),\n",
       " (('food', 'The'), 15838),\n",
       " (('I', 'think'), 15769),\n",
       " (('really', 'nice'), 15501),\n",
       " (('food', 'great'), 15226),\n",
       " (('long', 'time'), 15007),\n",
       " (('We', 'went'), 14899),\n",
       " (('Must', 'try'), 14793),\n",
       " (('I', 'ever'), 14615),\n",
       " (('North', 'Indian'), 14532),\n",
       " (('chicken', 'biryani'), 14356),\n",
       " (('best', 'place'), 14317),\n",
       " (('nFood', 'nService'), 14285),\n",
       " (('The', 'best'), 14229),\n",
       " (('ordered', 'chicken'), 13943),\n",
       " (('Food', 'good'), 13924),\n",
       " (('nValue', 'money'), 13767),\n",
       " (('good', 'ambience'), 13662),\n",
       " (('Good', 'place'), 13613),\n",
       " (('food', 'really'), 13395),\n",
       " (('food', 'quality'), 13370),\n",
       " (('I', 'got'), 12994),\n",
       " (('place', 'visit'), 12988),\n",
       " (('try', 'place'), 12962),\n",
       " (('The', 'chicken'), 12871),\n",
       " (('place', 'hang'), 12813),\n",
       " (('great', 'food'), 12726),\n",
       " (('quite', 'good'), 12710),\n",
       " (('Nice', 'place'), 12689),\n",
       " (('We', 'tried'), 12622),\n",
       " (('staff', 'friendly'), 12449),\n",
       " (('f', 'c'), 12404),\n",
       " (('go', 'place'), 12354),\n",
       " (('I', 'felt'), 12332),\n",
       " (('tasted', 'good'), 12054),\n",
       " (('nAmbience', 'nService'), 12017),\n",
       " (('Good', 'food'), 11894),\n",
       " (('food', 'service'), 11884),\n",
       " (('would', 'recommend'), 11851),\n",
       " (('home', 'delivery'), 11722),\n",
       " (('The', 'taste'), 11710),\n",
       " (('A', 'must'), 11482),\n",
       " (('Indian', 'food'), 11377),\n",
       " (('must', 'say'), 11275)]"
      ]
     },
     "execution_count": 45,
     "metadata": {},
     "output_type": "execute_result"
    }
   ],
   "source": [
    "fd_bigrams.most_common(100)"
   ]
  },
  {
   "cell_type": "markdown",
   "id": "91893c35",
   "metadata": {},
   "source": [
    "### Observations\n",
    "We have gained some new insights! The food items and preferences highlighted in the top 50 bigrams include:\n",
    "\n",
    "- Fried Rice\n",
    "- North Indian\n",
    "- Indian food\n",
    "- Non-Veg\n",
    "- Chicken Biryani\n",
    "- Main Course\n",
    "\n",
    "Factors contributing to the restaurant experience are:\n",
    "- Good Food\n",
    "- Goog Service\n",
    "- Pocket-Friendly\n",
    "- Good Ambience\n",
    "- Friendly behaviour of staffs\n",
    "- Home Delivery\n",
    "\n",
    "A key insight here is that the expense factor, which was overlooked in the individual word frequency counts, has been captured through the bigram frequency counts.\n"
   ]
  },
  {
   "cell_type": "markdown",
   "id": "7872e127",
   "metadata": {},
   "source": [
    "Tri-gram Analysis"
   ]
  },
  {
   "cell_type": "code",
   "execution_count": 46,
   "id": "e1a40892",
   "metadata": {},
   "outputs": [],
   "source": [
    "tri_grams = trigrams(total_reviews)\n",
    "fd_trigrams = FreqDist()\n",
    "\n",
    "for trigram in tri_grams:\n",
    "    fd_trigrams[trigram] = fd_trigrams[trigram] + 1"
   ]
  },
  {
   "cell_type": "code",
   "execution_count": 47,
   "id": "01961803",
   "metadata": {},
   "outputs": [
    {
     "data": {
      "text/plain": [
       "<Axes: xlabel='Samples', ylabel='Counts'>"
      ]
     },
     "execution_count": 47,
     "metadata": {},
     "output_type": "execute_result"
    },
    {
     "data": {
      "image/png": "[encoded data removed]",
      "text/plain": [
       "<Figure size 640x480 with 1 Axes>"
      ]
     },
     "metadata": {},
     "output_type": "display_data"
    }
   ],
   "source": [
    "fd_trigrams.plot(20)"
   ]
  },
  {
   "cell_type": "code",
   "execution_count": 48,
   "id": "4a5323bf",
   "metadata": {},
   "outputs": [
    {
     "data": {
      "text/plain": [
       "[(('f', 'f', 'f'), 19133),\n",
       " (('veg', 'non', 'veg'), 9288),\n",
       " (('The', 'food', 'good'), 9251),\n",
       " (('must', 'visit', 'place'), 9138),\n",
       " (('place', 'hangout', 'friends'), 8869),\n",
       " (('f', 'c', 'f'), 8040),\n",
       " (('xa', 'xa', 'xa'), 7959),\n",
       " (('I', 'must', 'say'), 7678),\n",
       " (('I', 'visited', 'place'), 7633),\n",
       " (('I', 'would', 'recommend'), 6481),\n",
       " (('nFood', 'nAmbience', 'nService'), 6240),\n",
       " (('I', 'would', 'say'), 5725),\n",
       " (('food', 'really', 'good'), 5654),\n",
       " (('A', 'good', 'place'), 5454),\n",
       " (('A', 'must', 'visit'), 5386),\n",
       " (('place', 'hang', 'friends'), 5367),\n",
       " (('c', 'f', 'f'), 4787),\n",
       " (('The', 'ambience', 'good'), 4693),\n",
       " (('North', 'Indian', 'food'), 4627),\n",
       " (('nFood', 'nService', 'nAmbience'), 4521),\n",
       " (('A', 'must', 'try'), 4400),\n",
       " (('f', 'f', 'c'), 4226),\n",
       " (('The', 'food', 'really'), 4130),\n",
       " (('I', 'would', 'like'), 4129),\n",
       " (('first', 'time', 'I'), 3978),\n",
       " (('I', 'would', 'definitely'), 3947),\n",
       " (('really', 'good', 'The'), 3864),\n",
       " (('The', 'service', 'good'), 3807),\n",
       " (('nService', 'nValue', 'money'), 3782),\n",
       " (('The', 'staff', 'friendly'), 3717),\n",
       " (('nAmbience', 'nFood', 'nService'), 3708),\n",
       " (('Overall', 'good', 'experience'), 3706),\n",
       " (('The', 'staff', 'courteous'), 3543),\n",
       " (('I', 'would', 'suggest'), 3505),\n",
       " (('I', 'ordered', 'chicken'), 3474),\n",
       " (('chicken', 'fried', 'rice'), 3454),\n",
       " (('place', 'good', 'food'), 3415),\n",
       " (('must', 'try', 'place'), 3386),\n",
       " (('peri', 'peri', 'chicken'), 3371),\n",
       " (('The', 'best', 'part'), 3355),\n",
       " (('We', 'ordered', 'chicken'), 3335),\n",
       " (('nRead', 'full', 'post'), 3311),\n",
       " (('good', 'We', 'ordered'), 3248),\n",
       " (('A', 'nice', 'place'), 3205),\n",
       " (('I', 'love', 'place'), 3170),\n",
       " (('good', 'place', 'hangout'), 3148),\n",
       " (('starters', 'main', 'course'), 3141),\n",
       " (('I', 'really', 'liked'), 3131),\n",
       " (('food', 'I', 'ordered'), 3095),\n",
       " (('One', 'best', 'places'), 3023),\n",
       " (('would', 'definitely', 'recommend'), 2968),\n",
       " (('service', 'also', 'good'), 2955),\n",
       " (('definitely', 'recommend', 'place'), 2947),\n",
       " (('good', 'food', 'good'), 2886),\n",
       " (('would', 'recommend', 'place'), 2809),\n",
       " (('place', 'The', 'food'), 2793),\n",
       " (('The', 'food', 'great'), 2774),\n",
       " (('main', 'course', 'ordered'), 2756),\n",
       " (('The', 'service', 'quick'), 2731),\n",
       " (('nOverall', 'good', 'experience'), 2717),\n",
       " (('We', 'also', 'ordered'), 2715),\n",
       " (('place', 'chill', 'friends'), 2698),\n",
       " (('We', 'visited', 'place'), 2691),\n",
       " (('nice', 'place', 'hangout'), 2690),\n",
       " (('paneer', 'butter', 'masala'), 2656),\n",
       " (('Keep', 'good', 'work'), 2647),\n",
       " (('I', 'ordered', 'food'), 2640),\n",
       " (('Must', 'visit', 'place'), 2629),\n",
       " (('pocket', 'friendly', 'place'), 2614),\n",
       " (('vanilla', 'ice', 'cream'), 2605),\n",
       " (('A', 'great', 'place'), 2596),\n",
       " (('food', 'good', 'service'), 2575),\n",
       " (('place', 'I', 'would'), 2566),\n",
       " (('really', 'good', 'I'), 2564),\n",
       " (('place', 'good', 'ambience'), 2520),\n",
       " (('food', 'We', 'ordered'), 2495),\n",
       " (('north', 'Indian', 'food'), 2489),\n",
       " (('place', 'really', 'good'), 2466),\n",
       " (('non', 'veg', 'starters'), 2456),\n",
       " (('The', 'food', 'delicious'), 2437),\n",
       " (('definitely', 'visit', 'place'), 2423),\n",
       " (('white', 'sauce', 'pasta'), 2419),\n",
       " (('c', 'f', 'c'), 2398),\n",
       " (('Overall', 'good', 'place'), 2385),\n",
       " (('I', 'recommend', 'place'), 2380),\n",
       " (('The', 'food', 'amazing'), 2378),\n",
       " (('worth', 'every', 'penny'), 2326),\n",
       " (('one', 'best', 'places'), 2310),\n",
       " (('time', 'I', 'ordered'), 2296),\n",
       " (('nThe', 'food', 'good'), 2284),\n",
       " (('It', 'nice', 'place'), 2270),\n",
       " (('The', 'ambience', 'place'), 2270),\n",
       " (('f', 'b', 'f'), 2265),\n",
       " (('I', 'would', 'love'), 2249),\n",
       " (('I', 'would', 'rate'), 2234),\n",
       " (('good', 'place', 'hang'), 2232),\n",
       " (('The', 'ambience', 'great'), 2228),\n",
       " (('I', 'loved', 'place'), 2220),\n",
       " (('tasted', 'really', 'good'), 2219),\n",
       " (('service', 'bit', 'slow'), 2215)]"
      ]
     },
     "execution_count": 48,
     "metadata": {},
     "output_type": "execute_result"
    }
   ],
   "source": [
    "fd_trigrams.most_common(100)"
   ]
  },
  {
   "cell_type": "markdown",
   "id": "865a9959",
   "metadata": {},
   "source": [
    "The specific food preferences highlighted include\n",
    "- North Indian food \n",
    "- Paneer Butter Masala\n",
    "- White Sauce Pasta\n",
    "- Vanilla Ice cream\n",
    "- Various chicken items. \n",
    "\n",
    "This indicates that Bangalore is home to many chicken lovers."
   ]
  },
  {
   "cell_type": "code",
   "execution_count": null,
   "id": "3724484f",
   "metadata": {},
   "outputs": [],
   "source": []
  },
  {
   "cell_type": "markdown",
   "id": "8c794f2d",
   "metadata": {},
   "source": [
    "### Extract geographical coordinates from the data "
   ]
  },
  {
   "cell_type": "code",
   "execution_count": 49,
   "id": "376a042c",
   "metadata": {},
   "outputs": [],
   "source": [
    "#!pip install geocoder\n",
    "#!pip install geopy"
   ]
  },
  {
   "cell_type": "code",
   "execution_count": 50,
   "id": "37aaf3b7",
   "metadata": {},
   "outputs": [
    {
     "data": {
      "text/plain": [
       "0                      Banashankari\n",
       "1                      Banashankari\n",
       "2                      Banashankari\n",
       "3                      Banashankari\n",
       "4                      Basavanagudi\n",
       "                    ...            \n",
       "51712                    Whitefield\n",
       "51713                    Whitefield\n",
       "51714                    Whitefield\n",
       "51715    ITPL Main Road, Whitefield\n",
       "51716    ITPL Main Road, Whitefield\n",
       "Name: location, Length: 51717, dtype: object"
      ]
     },
     "execution_count": 50,
     "metadata": {},
     "output_type": "execute_result"
    }
   ],
   "source": [
    "df['location']"
   ]
  },
  {
   "cell_type": "code",
   "execution_count": 51,
   "id": "86ba3b09",
   "metadata": {},
   "outputs": [
    {
     "data": {
      "text/plain": [
       "array(['Banashankari', 'Basavanagudi', 'Mysore Road', 'Jayanagar',\n",
       "       'Kumaraswamy Layout', 'Rajarajeshwari Nagar', 'Vijay Nagar',\n",
       "       'Uttarahalli', 'JP Nagar', 'South Bangalore', 'City Market',\n",
       "       'Nagarbhavi', 'Bannerghatta Road', 'BTM', 'Kanakapura Road',\n",
       "       'Bommanahalli', None, 'CV Raman Nagar', 'Electronic City', 'HSR',\n",
       "       'Marathahalli', 'Sarjapur Road', 'Wilson Garden', 'Shanti Nagar',\n",
       "       'Koramangala 5th Block', 'Koramangala 8th Block', 'Richmond Road',\n",
       "       'Koramangala 7th Block', 'Jalahalli', 'Koramangala 4th Block',\n",
       "       'Bellandur', 'Whitefield', 'East Bangalore', 'Old Airport Road',\n",
       "       'Indiranagar', 'Koramangala 1st Block', 'Frazer Town', 'RT Nagar',\n",
       "       'MG Road', 'Brigade Road', 'Lavelle Road', 'Church Street',\n",
       "       'Ulsoor', 'Residency Road', 'Shivajinagar', 'Infantry Road',\n",
       "       'St. Marks Road', 'Cunningham Road', 'Race Course Road',\n",
       "       'Commercial Street', 'Vasanth Nagar', 'HBR Layout', 'Domlur',\n",
       "       'Ejipura', 'Jeevan Bhima Nagar', 'Old Madras Road', 'Malleshwaram',\n",
       "       'Seshadripuram', 'Kammanahalli', 'Koramangala 6th Block',\n",
       "       'Majestic', 'Langford Town', 'Central Bangalore', 'Sanjay Nagar',\n",
       "       'Brookefield', 'ITPL Main Road, Whitefield',\n",
       "       'Varthur Main Road, Whitefield', 'KR Puram',\n",
       "       'Koramangala 2nd Block', 'Koramangala 3rd Block', 'Koramangala',\n",
       "       'Hosur Road', 'Rajajinagar', 'Banaswadi', 'North Bangalore',\n",
       "       'Nagawara', 'Hennur', 'Kalyan Nagar', 'New BEL Road', 'Jakkur',\n",
       "       'Rammurthy Nagar', 'Thippasandra', 'Kaggadasapura', 'Hebbal',\n",
       "       'Kengeri', 'Sankey Road', 'Sadashiv Nagar', 'Basaveshwara Nagar',\n",
       "       'Yeshwantpur', 'West Bangalore', 'Magadi Road', 'Yelahanka',\n",
       "       'Sahakara Nagar', 'Peenya'], dtype=object)"
      ]
     },
     "execution_count": 51,
     "metadata": {},
     "output_type": "execute_result"
    }
   ],
   "source": [
    "df['location'].unique()"
   ]
  },
  {
   "cell_type": "code",
   "execution_count": 52,
   "id": "94b9c492",
   "metadata": {},
   "outputs": [
    {
     "data": {
      "text/plain": [
       "94"
      ]
     },
     "execution_count": 52,
     "metadata": {},
     "output_type": "execute_result"
    }
   ],
   "source": [
    "#No. of unique locations\n",
    "len(df['location'].unique())"
   ]
  },
  {
   "cell_type": "code",
   "execution_count": 53,
   "id": "6a9add35",
   "metadata": {},
   "outputs": [],
   "source": [
    "# We are adding the city, state and country to make precise analysis\n",
    "df['location'] = df['location'] + \" , Bangalore  , Karnataka , India \""
   ]
  },
  {
   "cell_type": "code",
   "execution_count": 54,
   "id": "168adb5a",
   "metadata": {},
   "outputs": [
    {
     "data": {
      "text/plain": [
       "array(['Banashankari , Bangalore  , Karnataka , India ',\n",
       "       'Basavanagudi , Bangalore  , Karnataka , India ',\n",
       "       'Mysore Road , Bangalore  , Karnataka , India ',\n",
       "       'Jayanagar , Bangalore  , Karnataka , India ',\n",
       "       'Kumaraswamy Layout , Bangalore  , Karnataka , India ',\n",
       "       'Rajarajeshwari Nagar , Bangalore  , Karnataka , India ',\n",
       "       'Vijay Nagar , Bangalore  , Karnataka , India ',\n",
       "       'Uttarahalli , Bangalore  , Karnataka , India ',\n",
       "       'JP Nagar , Bangalore  , Karnataka , India ',\n",
       "       'South Bangalore , Bangalore  , Karnataka , India ',\n",
       "       'City Market , Bangalore  , Karnataka , India ',\n",
       "       'Nagarbhavi , Bangalore  , Karnataka , India ',\n",
       "       'Bannerghatta Road , Bangalore  , Karnataka , India ',\n",
       "       'BTM , Bangalore  , Karnataka , India ',\n",
       "       'Kanakapura Road , Bangalore  , Karnataka , India ',\n",
       "       'Bommanahalli , Bangalore  , Karnataka , India ', nan,\n",
       "       'CV Raman Nagar , Bangalore  , Karnataka , India ',\n",
       "       'Electronic City , Bangalore  , Karnataka , India ',\n",
       "       'HSR , Bangalore  , Karnataka , India ',\n",
       "       'Marathahalli , Bangalore  , Karnataka , India ',\n",
       "       'Sarjapur Road , Bangalore  , Karnataka , India ',\n",
       "       'Wilson Garden , Bangalore  , Karnataka , India ',\n",
       "       'Shanti Nagar , Bangalore  , Karnataka , India ',\n",
       "       'Koramangala 5th Block , Bangalore  , Karnataka , India ',\n",
       "       'Koramangala 8th Block , Bangalore  , Karnataka , India ',\n",
       "       'Richmond Road , Bangalore  , Karnataka , India ',\n",
       "       'Koramangala 7th Block , Bangalore  , Karnataka , India ',\n",
       "       'Jalahalli , Bangalore  , Karnataka , India ',\n",
       "       'Koramangala 4th Block , Bangalore  , Karnataka , India ',\n",
       "       'Bellandur , Bangalore  , Karnataka , India ',\n",
       "       'Whitefield , Bangalore  , Karnataka , India ',\n",
       "       'East Bangalore , Bangalore  , Karnataka , India ',\n",
       "       'Old Airport Road , Bangalore  , Karnataka , India ',\n",
       "       'Indiranagar , Bangalore  , Karnataka , India ',\n",
       "       'Koramangala 1st Block , Bangalore  , Karnataka , India ',\n",
       "       'Frazer Town , Bangalore  , Karnataka , India ',\n",
       "       'RT Nagar , Bangalore  , Karnataka , India ',\n",
       "       'MG Road , Bangalore  , Karnataka , India ',\n",
       "       'Brigade Road , Bangalore  , Karnataka , India ',\n",
       "       'Lavelle Road , Bangalore  , Karnataka , India ',\n",
       "       'Church Street , Bangalore  , Karnataka , India ',\n",
       "       'Ulsoor , Bangalore  , Karnataka , India ',\n",
       "       'Residency Road , Bangalore  , Karnataka , India ',\n",
       "       'Shivajinagar , Bangalore  , Karnataka , India ',\n",
       "       'Infantry Road , Bangalore  , Karnataka , India ',\n",
       "       'St. Marks Road , Bangalore  , Karnataka , India ',\n",
       "       'Cunningham Road , Bangalore  , Karnataka , India ',\n",
       "       'Race Course Road , Bangalore  , Karnataka , India ',\n",
       "       'Commercial Street , Bangalore  , Karnataka , India ',\n",
       "       'Vasanth Nagar , Bangalore  , Karnataka , India ',\n",
       "       'HBR Layout , Bangalore  , Karnataka , India ',\n",
       "       'Domlur , Bangalore  , Karnataka , India ',\n",
       "       'Ejipura , Bangalore  , Karnataka , India ',\n",
       "       'Jeevan Bhima Nagar , Bangalore  , Karnataka , India ',\n",
       "       'Old Madras Road , Bangalore  , Karnataka , India ',\n",
       "       'Malleshwaram , Bangalore  , Karnataka , India ',\n",
       "       'Seshadripuram , Bangalore  , Karnataka , India ',\n",
       "       'Kammanahalli , Bangalore  , Karnataka , India ',\n",
       "       'Koramangala 6th Block , Bangalore  , Karnataka , India ',\n",
       "       'Majestic , Bangalore  , Karnataka , India ',\n",
       "       'Langford Town , Bangalore  , Karnataka , India ',\n",
       "       'Central Bangalore , Bangalore  , Karnataka , India ',\n",
       "       'Sanjay Nagar , Bangalore  , Karnataka , India ',\n",
       "       'Brookefield , Bangalore  , Karnataka , India ',\n",
       "       'ITPL Main Road, Whitefield , Bangalore  , Karnataka , India ',\n",
       "       'Varthur Main Road, Whitefield , Bangalore  , Karnataka , India ',\n",
       "       'KR Puram , Bangalore  , Karnataka , India ',\n",
       "       'Koramangala 2nd Block , Bangalore  , Karnataka , India ',\n",
       "       'Koramangala 3rd Block , Bangalore  , Karnataka , India ',\n",
       "       'Koramangala , Bangalore  , Karnataka , India ',\n",
       "       'Hosur Road , Bangalore  , Karnataka , India ',\n",
       "       'Rajajinagar , Bangalore  , Karnataka , India ',\n",
       "       'Banaswadi , Bangalore  , Karnataka , India ',\n",
       "       'North Bangalore , Bangalore  , Karnataka , India ',\n",
       "       'Nagawara , Bangalore  , Karnataka , India ',\n",
       "       'Hennur , Bangalore  , Karnataka , India ',\n",
       "       'Kalyan Nagar , Bangalore  , Karnataka , India ',\n",
       "       'New BEL Road , Bangalore  , Karnataka , India ',\n",
       "       'Jakkur , Bangalore  , Karnataka , India ',\n",
       "       'Rammurthy Nagar , Bangalore  , Karnataka , India ',\n",
       "       'Thippasandra , Bangalore  , Karnataka , India ',\n",
       "       'Kaggadasapura , Bangalore  , Karnataka , India ',\n",
       "       'Hebbal , Bangalore  , Karnataka , India ',\n",
       "       'Kengeri , Bangalore  , Karnataka , India ',\n",
       "       'Sankey Road , Bangalore  , Karnataka , India ',\n",
       "       'Sadashiv Nagar , Bangalore  , Karnataka , India ',\n",
       "       'Basaveshwara Nagar , Bangalore  , Karnataka , India ',\n",
       "       'Yeshwantpur , Bangalore  , Karnataka , India ',\n",
       "       'West Bangalore , Bangalore  , Karnataka , India ',\n",
       "       'Magadi Road , Bangalore  , Karnataka , India ',\n",
       "       'Yelahanka , Bangalore  , Karnataka , India ',\n",
       "       'Sahakara Nagar , Bangalore  , Karnataka , India ',\n",
       "       'Peenya , Bangalore  , Karnataka , India '], dtype=object)"
      ]
     },
     "execution_count": 54,
     "metadata": {},
     "output_type": "execute_result"
    }
   ],
   "source": [
    "df['location'].unique()"
   ]
  },
  {
   "cell_type": "code",
   "execution_count": 55,
   "id": "192724a6",
   "metadata": {},
   "outputs": [],
   "source": [
    "df_copy = df.copy()"
   ]
  },
  {
   "cell_type": "code",
   "execution_count": 56,
   "id": "d14ee2dd",
   "metadata": {},
   "outputs": [],
   "source": [
    "df_copy = df_copy.dropna(subset=['location'])"
   ]
  },
  {
   "cell_type": "code",
   "execution_count": 57,
   "id": "8d348de1",
   "metadata": {},
   "outputs": [],
   "source": [
    "locations = pd.DataFrame(df_copy['location'].unique())"
   ]
  },
  {
   "cell_type": "code",
   "execution_count": 58,
   "id": "429d7ea9",
   "metadata": {},
   "outputs": [
    {
     "data": {
      "text/html": [
       "<div>\n",
       "<style scoped>\n",
       "    .dataframe tbody tr th:only-of-type {\n",
       "        vertical-align: middle;\n",
       "    }\n",
       "\n",
       "    .dataframe tbody tr th {\n",
       "        vertical-align: top;\n",
       "    }\n",
       "\n",
       "    .dataframe thead th {\n",
       "        text-align: right;\n",
       "    }\n",
       "</style>\n",
       "<table border=\"1\" class=\"dataframe\">\n",
       "  <thead>\n",
       "    <tr style=\"text-align: right;\">\n",
       "      <th></th>\n",
       "      <th>0</th>\n",
       "    </tr>\n",
       "  </thead>\n",
       "  <tbody>\n",
       "    <tr>\n",
       "      <th>0</th>\n",
       "      <td>Banashankari , Bangalore  , Karnataka , India</td>\n",
       "    </tr>\n",
       "    <tr>\n",
       "      <th>1</th>\n",
       "      <td>Basavanagudi , Bangalore  , Karnataka , India</td>\n",
       "    </tr>\n",
       "    <tr>\n",
       "      <th>2</th>\n",
       "      <td>Mysore Road , Bangalore  , Karnataka , India</td>\n",
       "    </tr>\n",
       "    <tr>\n",
       "      <th>3</th>\n",
       "      <td>Jayanagar , Bangalore  , Karnataka , India</td>\n",
       "    </tr>\n",
       "    <tr>\n",
       "      <th>4</th>\n",
       "      <td>Kumaraswamy Layout , Bangalore  , Karnataka , ...</td>\n",
       "    </tr>\n",
       "    <tr>\n",
       "      <th>...</th>\n",
       "      <td>...</td>\n",
       "    </tr>\n",
       "    <tr>\n",
       "      <th>88</th>\n",
       "      <td>West Bangalore , Bangalore  , Karnataka , India</td>\n",
       "    </tr>\n",
       "    <tr>\n",
       "      <th>89</th>\n",
       "      <td>Magadi Road , Bangalore  , Karnataka , India</td>\n",
       "    </tr>\n",
       "    <tr>\n",
       "      <th>90</th>\n",
       "      <td>Yelahanka , Bangalore  , Karnataka , India</td>\n",
       "    </tr>\n",
       "    <tr>\n",
       "      <th>91</th>\n",
       "      <td>Sahakara Nagar , Bangalore  , Karnataka , India</td>\n",
       "    </tr>\n",
       "    <tr>\n",
       "      <th>92</th>\n",
       "      <td>Peenya , Bangalore  , Karnataka , India</td>\n",
       "    </tr>\n",
       "  </tbody>\n",
       "</table>\n",
       "<p>93 rows × 1 columns</p>\n",
       "</div>"
      ],
      "text/plain": [
       "                                                    0\n",
       "0      Banashankari , Bangalore  , Karnataka , India \n",
       "1      Basavanagudi , Bangalore  , Karnataka , India \n",
       "2       Mysore Road , Bangalore  , Karnataka , India \n",
       "3         Jayanagar , Bangalore  , Karnataka , India \n",
       "4   Kumaraswamy Layout , Bangalore  , Karnataka , ...\n",
       "..                                                ...\n",
       "88   West Bangalore , Bangalore  , Karnataka , India \n",
       "89      Magadi Road , Bangalore  , Karnataka , India \n",
       "90        Yelahanka , Bangalore  , Karnataka , India \n",
       "91   Sahakara Nagar , Bangalore  , Karnataka , India \n",
       "92           Peenya , Bangalore  , Karnataka , India \n",
       "\n",
       "[93 rows x 1 columns]"
      ]
     },
     "execution_count": 58,
     "metadata": {},
     "output_type": "execute_result"
    }
   ],
   "source": [
    "locations"
   ]
  },
  {
   "cell_type": "code",
   "execution_count": 59,
   "id": "2659de29",
   "metadata": {},
   "outputs": [],
   "source": [
    "#Naming the column\n",
    "locations.columns = ['Area']"
   ]
  },
  {
   "cell_type": "code",
   "execution_count": 60,
   "id": "10abb155",
   "metadata": {},
   "outputs": [],
   "source": [
    "from geopy.geocoders import Nominatim"
   ]
  },
  {
   "cell_type": "code",
   "execution_count": 61,
   "id": "985b14d8",
   "metadata": {},
   "outputs": [],
   "source": [
    "### assign timeout=None in order to get rid of timeout error..\n",
    "geolocator = Nominatim(user_agent=\"app\" , timeout=None)"
   ]
  },
  {
   "cell_type": "code",
   "execution_count": 67,
   "id": "0e8c50c5",
   "metadata": {},
   "outputs": [],
   "source": [
    "#to assign co-ordinates into a list\n",
    "lat=[]\n",
    "lon=[]\n",
    "\n",
    "for location in locations['Area']:\n",
    "    location = geolocator.geocode(location)\n",
    "    if location is None:\n",
    "        lat.append(np.nan)\n",
    "        lon.append(np.nan)\n",
    "    else:\n",
    "        lat.append(location.latitude)\n",
    "        lon.append(location.longitude)\n",
    "    "
   ]
  },
  {
   "cell_type": "code",
   "execution_count": 68,
   "id": "51f354b0",
   "metadata": {},
   "outputs": [],
   "source": [
    "# adding the latitude and longitude column in the locations dataset\n",
    "locations['latitude'] = lat\n",
    "locations['longitude'] = lon"
   ]
  },
  {
   "cell_type": "code",
   "execution_count": null,
   "id": "cfd1e85b",
   "metadata": {},
   "outputs": [],
   "source": [
    "locations"
   ]
  },
  {
   "cell_type": "code",
   "execution_count": null,
   "id": "f1b53187",
   "metadata": {},
   "outputs": [],
   "source": [
    "### lets find it out whether we have misssing values or not !\n",
    "locations.isnull().sum()"
   ]
  },
  {
   "cell_type": "code",
   "execution_count": null,
   "id": "4a6a8242",
   "metadata": {},
   "outputs": [],
   "source": [
    "locations[locations['latitude'].isna()]"
   ]
  },
  {
   "cell_type": "code",
   "execution_count": null,
   "id": "156a65d1",
   "metadata": {},
   "outputs": [],
   "source": [
    "#Adding missing values from google search\n",
    "locations['latitude'][79] = 13.0163\n",
    "locations['longitude'][79] = 77.6785\n",
    "locations['latitude'][85] = 13.0068\n",
    "locations['longitude'][85] = 77.5813"
   ]
  },
  {
   "cell_type": "code",
   "execution_count": null,
   "id": "2c6cd5f6",
   "metadata": {},
   "outputs": [],
   "source": [
    "df['cuisines'].isnull().sum()"
   ]
  },
  {
   "cell_type": "code",
   "execution_count": 74,
   "id": "7f191a25",
   "metadata": {},
   "outputs": [],
   "source": [
    "df = df.dropna(subset=['cuisines'])"
   ]
  },
  {
   "cell_type": "code",
   "execution_count": null,
   "id": "84f807f7",
   "metadata": {},
   "outputs": [],
   "source": [
    "df.cuisines.unique()"
   ]
  },
  {
   "cell_type": "code",
   "execution_count": 76,
   "id": "3f3deaf4",
   "metadata": {},
   "outputs": [],
   "source": [
    "#Let's find it out what are those areas where we have most number of Momos restaurants ?\n",
    "#Because I love them\n",
    "\n",
    "momos = df[df['cuisines'].str.contains('Momo')]"
   ]
  },
  {
   "cell_type": "code",
   "execution_count": null,
   "id": "3e6d23ea",
   "metadata": {},
   "outputs": [],
   "source": [
    "momos.shape"
   ]
  },
  {
   "cell_type": "code",
   "execution_count": 78,
   "id": "9c86b0e4",
   "metadata": {},
   "outputs": [],
   "source": [
    "momos_rest_count = momos['location'].value_counts().reset_index().rename(columns={'index':'name' , \"location\":\"Area\"})"
   ]
  },
  {
   "cell_type": "code",
   "execution_count": null,
   "id": "771fc9ca",
   "metadata": {},
   "outputs": [],
   "source": [
    "momos_rest_count"
   ]
  },
  {
   "cell_type": "code",
   "execution_count": 80,
   "id": "43c4f16e",
   "metadata": {},
   "outputs": [],
   "source": [
    "heatmap_df = momos_rest_count.merge(locations , on='Area' , how='left')"
   ]
  },
  {
   "cell_type": "code",
   "execution_count": null,
   "id": "a3716e5d",
   "metadata": {},
   "outputs": [],
   "source": [
    "heatmap_df"
   ]
  },
  {
   "cell_type": "markdown",
   "id": "ab46dacb",
   "metadata": {},
   "source": [
    "Adding Basemap"
   ]
  },
  {
   "cell_type": "code",
   "execution_count": 82,
   "id": "0bf7e106",
   "metadata": {},
   "outputs": [],
   "source": [
    "#!pip install folium\n",
    "import folium\n",
    "basemap = folium.Map()"
   ]
  },
  {
   "cell_type": "code",
   "execution_count": null,
   "id": "9a89ba41",
   "metadata": {},
   "outputs": [],
   "source": [
    "basemap"
   ]
  },
  {
   "cell_type": "code",
   "execution_count": 84,
   "id": "af87c546",
   "metadata": {},
   "outputs": [],
   "source": [
    "from folium.plugins import HeatMap"
   ]
  },
  {
   "cell_type": "code",
   "execution_count": null,
   "id": "e28ff924",
   "metadata": {},
   "outputs": [],
   "source": [
    "HeatMap(heatmap_df[['latitude', 'longitude' , \"count\"]]).add_to(basemap)"
   ]
  },
  {
   "cell_type": "code",
   "execution_count": null,
   "id": "3963ea73",
   "metadata": {
    "scrolled": true
   },
   "outputs": [],
   "source": [
    "basemap"
   ]
  },
  {
   "cell_type": "markdown",
   "id": "73f99324",
   "metadata": {},
   "source": [
    "#### Conclusions:\n",
    "- It is evident that restaurants are primarily concentrated in the central Bangalore area.\n",
    "- The density of restaurants decreases as we move away from the center.\n",
    "- This information can be valuable for potential restaurant entrepreneurs in identifying favorable locations for their ventures.\n",
    "- It’s important to note that heatmaps are most effective when we have latitude and longitude data or when indicating the significance or count of specific locations."
   ]
  },
  {
   "cell_type": "markdown",
   "id": "43337393",
   "metadata": {},
   "source": [
    "#### Automating the task of generating basemap for different type of cuisnes"
   ]
  },
  {
   "cell_type": "code",
   "execution_count": 87,
   "id": "36b9115e",
   "metadata": {},
   "outputs": [],
   "source": [
    "def get_heatmap(cuisine):\n",
    "    cuisine_df = df[df['cuisines'].str.contains(cuisine)]\n",
    "    \n",
    "    cuisine_rest_count = cuisine_df['location'].value_counts().reset_index().rename(columns={'index':'name' , \"location\":\"Area\"})\n",
    "    heatmap_df = cuisine_rest_count.merge(locations , on='Area' , how='left')\n",
    "    print(heatmap_df.head(4))\n",
    "    \n",
    "    basemap = folium.Map()\n",
    "    HeatMap(heatmap_df[['latitude', 'longitude' , \"count\"]]).add_to(basemap)\n",
    "    return basemap\n",
    "\n"
   ]
  },
  {
   "cell_type": "code",
   "execution_count": null,
   "id": "a1ec2007",
   "metadata": {},
   "outputs": [],
   "source": [
    "#Let's find Bengali restaurants as I'm a Bengali and I'd love to find a place which serves bengali food\n",
    "get_heatmap('Bengali')"
   ]
  },
  {
   "cell_type": "code",
   "execution_count": null,
   "id": "97ac3459",
   "metadata": {},
   "outputs": [],
   "source": [
    "#for South Indian cuisines\n",
    "get_heatmap('South Indian')"
   ]
  },
  {
   "cell_type": "code",
   "execution_count": null,
   "id": "7bbd3dfd",
   "metadata": {},
   "outputs": [],
   "source": [
    "#for North Indian cuisines\n",
    "get_heatmap('North Indian')"
   ]
  },
  {
   "cell_type": "markdown",
   "id": "8a680da0",
   "metadata": {},
   "source": [
    "### Conclusion<br>\n",
    "\n",
    "- In this exploratory data analysis of the Zomato dataset, we uncovered valuable insights into restaurant dynamics in Bangalore. Our analysis revealed a strong correlation between restaurant ratings and the acceptance of online orders, indicating that restaurants with higher ratings tend to receive more online orders.\n",
    "\n",
    "- Furthermore, through unigram and bigram analyses, we identified prevalent food preferences among customers, with items such as Fried Rice, Paneer Butter Masala, Vanilla Icecream and Chicken Biryani frequently mentioned. This suggests that certain cuisines are particularly popular in the city, reflecting local tastes and dining habits.\n",
    "\n",
    "- Geospatial analysis highlighted the concentration of restaurants in central Bangalore, with a notable decrease in density as one moves outward. This information can be instrumental for potential restaurant entrepreneurs seeking to establish their businesses in high-traffic areas.\n",
    "\n",
    "- Overall, this EDA has provided a comprehensive understanding of customer preferences, restaurant performance, and geographical trends, laying a solid foundation for further research and business strategy development in the food and beverage sector."
   ]
  },
  {
   "cell_type": "code",
   "execution_count": null,
   "id": "d2610266",
   "metadata": {},
   "outputs": [],
   "source": []
  }
 ],
 "metadata": {
  "kernelspec": {
   "display_name": "Python 3",
   "language": "python",
   "name": "python3"
  },
  "language_info": {
   "codemirror_mode": {
    "name": "ipython",
    "version": 3
   },
   "file_extension": ".py",
   "mimetype": "text/x-python",
   "name": "python",
   "nbconvert_exporter": "python",
   "pygments_lexer": "ipython3",
   "version": "3.11.9"
  }
 },
 "nbformat": 4,
 "nbformat_minor": 5
}
